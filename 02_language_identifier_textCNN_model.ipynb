{
 "cells": [
  {
   "cell_type": "markdown",
   "id": "e60ffaeb",
   "metadata": {},
   "source": [
    "## Importing all the necessary dependencies"
   ]
  },
  {
   "cell_type": "code",
   "execution_count": 1,
   "id": "5abd1c9b",
   "metadata": {},
   "outputs": [],
   "source": [
    "import numpy as np\n",
    "import pandas as pd \n",
    "from sklearn.model_selection import train_test_split \n",
    "from sklearn.preprocessing import LabelEncoder\n",
    "from tensorflow.keras.preprocessing.text import one_hot, Tokenizer\n",
    "from tensorflow.keras.preprocessing.sequence import pad_sequences\n",
    "from tensorflow.keras.utils import to_categorical\n",
    "from tensorflow.keras.callbacks import EarlyStopping\n",
    "from tensorflow.keras.models import Sequential\n",
    "from tensorflow.keras.layers import Embedding, Dense, Conv1D, GlobalMaxPooling1D\n",
    "from tensorflow.keras.optimizers import Adam\n",
    "import pickle "
   ]
  },
  {
   "cell_type": "markdown",
   "id": "8c152a7d",
   "metadata": {},
   "source": [
    "## Loading the dataset"
   ]
  },
  {
   "cell_type": "code",
   "execution_count": 2,
   "id": "fbf318d3",
   "metadata": {},
   "outputs": [],
   "source": [
    "language_dataset = pd.read_csv('dataset.csv')"
   ]
  },
  {
   "cell_type": "code",
   "execution_count": 3,
   "id": "3650b2f3",
   "metadata": {},
   "outputs": [
    {
     "data": {
      "text/html": [
       "<div>\n",
       "<style scoped>\n",
       "    .dataframe tbody tr th:only-of-type {\n",
       "        vertical-align: middle;\n",
       "    }\n",
       "\n",
       "    .dataframe tbody tr th {\n",
       "        vertical-align: top;\n",
       "    }\n",
       "\n",
       "    .dataframe thead th {\n",
       "        text-align: right;\n",
       "    }\n",
       "</style>\n",
       "<table border=\"1\" class=\"dataframe\">\n",
       "  <thead>\n",
       "    <tr style=\"text-align: right;\">\n",
       "      <th></th>\n",
       "      <th>Text</th>\n",
       "      <th>language</th>\n",
       "    </tr>\n",
       "  </thead>\n",
       "  <tbody>\n",
       "    <tr>\n",
       "      <th>19072</th>\n",
       "      <td>cuchilla montes negros är en ås i colombia den...</td>\n",
       "      <td>Swedish</td>\n",
       "    </tr>\n",
       "    <tr>\n",
       "      <th>4332</th>\n",
       "      <td>yadagiri p  the osteology kotasaurus yamanpall...</td>\n",
       "      <td>Spanish</td>\n",
       "    </tr>\n",
       "    <tr>\n",
       "      <th>1911</th>\n",
       "      <td>มานิต ศรีวานิชภูมิ เข้ามามีบทบาทด้านการเมือง โ...</td>\n",
       "      <td>Thai</td>\n",
       "    </tr>\n",
       "    <tr>\n",
       "      <th>21824</th>\n",
       "      <td>இந்திய அரசு சுதந்திரததிற்குப்பிறகு பொருளாதார வ...</td>\n",
       "      <td>Tamil</td>\n",
       "    </tr>\n",
       "    <tr>\n",
       "      <th>9533</th>\n",
       "      <td>în general receptoarele gps sunt compuse dintr...</td>\n",
       "      <td>Romanian</td>\n",
       "    </tr>\n",
       "  </tbody>\n",
       "</table>\n",
       "</div>"
      ],
      "text/plain": [
       "                                                    Text  language\n",
       "19072  cuchilla montes negros är en ås i colombia den...   Swedish\n",
       "4332   yadagiri p  the osteology kotasaurus yamanpall...   Spanish\n",
       "1911   มานิต ศรีวานิชภูมิ เข้ามามีบทบาทด้านการเมือง โ...      Thai\n",
       "21824  இந்திய அரசு சுதந்திரததிற்குப்பிறகு பொருளாதார வ...     Tamil\n",
       "9533   în general receptoarele gps sunt compuse dintr...  Romanian"
      ]
     },
     "execution_count": 3,
     "metadata": {},
     "output_type": "execute_result"
    }
   ],
   "source": [
    "language_dataset.sample(5)"
   ]
  },
  {
   "cell_type": "code",
   "execution_count": 4,
   "id": "b0a8e404",
   "metadata": {},
   "outputs": [
    {
     "data": {
      "text/plain": [
       "Text        0\n",
       "language    0\n",
       "dtype: int64"
      ]
     },
     "execution_count": 4,
     "metadata": {},
     "output_type": "execute_result"
    }
   ],
   "source": [
    "language_dataset.isnull().sum()"
   ]
  },
  {
   "cell_type": "code",
   "execution_count": 5,
   "id": "f0838060",
   "metadata": {},
   "outputs": [
    {
     "name": "stdout",
     "output_type": "stream",
     "text": [
      "<class 'pandas.core.frame.DataFrame'>\n",
      "RangeIndex: 22000 entries, 0 to 21999\n",
      "Data columns (total 2 columns):\n",
      " #   Column    Non-Null Count  Dtype \n",
      "---  ------    --------------  ----- \n",
      " 0   Text      22000 non-null  object\n",
      " 1   language  22000 non-null  object\n",
      "dtypes: object(2)\n",
      "memory usage: 343.9+ KB\n"
     ]
    }
   ],
   "source": [
    "language_dataset.info()"
   ]
  },
  {
   "cell_type": "code",
   "execution_count": 6,
   "id": "17b8dbf9",
   "metadata": {},
   "outputs": [
    {
     "data": {
      "text/plain": [
       "language\n",
       "Estonian      1000\n",
       "Swedish       1000\n",
       "English       1000\n",
       "Russian       1000\n",
       "Romanian      1000\n",
       "Persian       1000\n",
       "Pushto        1000\n",
       "Spanish       1000\n",
       "Hindi         1000\n",
       "Korean        1000\n",
       "Chinese       1000\n",
       "French        1000\n",
       "Portugese     1000\n",
       "Indonesian    1000\n",
       "Urdu          1000\n",
       "Latin         1000\n",
       "Turkish       1000\n",
       "Japanese      1000\n",
       "Dutch         1000\n",
       "Tamil         1000\n",
       "Thai          1000\n",
       "Arabic        1000\n",
       "Name: count, dtype: int64"
      ]
     },
     "execution_count": 6,
     "metadata": {},
     "output_type": "execute_result"
    }
   ],
   "source": [
    "language_dataset['language'].value_counts()"
   ]
  },
  {
   "cell_type": "markdown",
   "id": "d22582f8",
   "metadata": {},
   "source": [
    "## Checking for duplicate values in the dataset"
   ]
  },
  {
   "cell_type": "code",
   "execution_count": 7,
   "id": "6081a261",
   "metadata": {},
   "outputs": [
    {
     "data": {
      "text/plain": [
       "141"
      ]
     },
     "execution_count": 7,
     "metadata": {},
     "output_type": "execute_result"
    }
   ],
   "source": [
    "language_dataset.duplicated().sum()"
   ]
  },
  {
   "cell_type": "markdown",
   "id": "d68e6eda",
   "metadata": {},
   "source": [
    "## Dropping the duplicate values from the dataset"
   ]
  },
  {
   "cell_type": "code",
   "execution_count": 8,
   "id": "4458d52b",
   "metadata": {},
   "outputs": [],
   "source": [
    "language_dataset.drop_duplicates(inplace=True)"
   ]
  },
  {
   "cell_type": "markdown",
   "id": "43efa1c0",
   "metadata": {},
   "source": [
    "## Confirming whether the duplicate values are deleted from the dataset or not"
   ]
  },
  {
   "cell_type": "code",
   "execution_count": 9,
   "id": "fb57407f",
   "metadata": {},
   "outputs": [
    {
     "data": {
      "text/plain": [
       "0"
      ]
     },
     "execution_count": 9,
     "metadata": {},
     "output_type": "execute_result"
    }
   ],
   "source": [
    "language_dataset.duplicated().sum()"
   ]
  },
  {
   "cell_type": "markdown",
   "id": "5790ade8",
   "metadata": {},
   "source": [
    "## Encoding the labels"
   ]
  },
  {
   "cell_type": "code",
   "execution_count": 10,
   "id": "6b596e48",
   "metadata": {},
   "outputs": [],
   "source": [
    "encoder = LabelEncoder()\n",
    "\n",
    "language_dataset['language_encoded'] = encoder.fit_transform(language_dataset['language'])"
   ]
  },
  {
   "cell_type": "code",
   "execution_count": 11,
   "id": "bc782459",
   "metadata": {},
   "outputs": [
    {
     "data": {
      "text/html": [
       "<div>\n",
       "<style scoped>\n",
       "    .dataframe tbody tr th:only-of-type {\n",
       "        vertical-align: middle;\n",
       "    }\n",
       "\n",
       "    .dataframe tbody tr th {\n",
       "        vertical-align: top;\n",
       "    }\n",
       "\n",
       "    .dataframe thead th {\n",
       "        text-align: right;\n",
       "    }\n",
       "</style>\n",
       "<table border=\"1\" class=\"dataframe\">\n",
       "  <thead>\n",
       "    <tr style=\"text-align: right;\">\n",
       "      <th></th>\n",
       "      <th>Text</th>\n",
       "      <th>language</th>\n",
       "      <th>language_encoded</th>\n",
       "    </tr>\n",
       "  </thead>\n",
       "  <tbody>\n",
       "    <tr>\n",
       "      <th>19202</th>\n",
       "      <td>doğum tarihi kesin olmamakla beraber nereli ve...</td>\n",
       "      <td>Turkish</td>\n",
       "      <td>20</td>\n",
       "    </tr>\n",
       "    <tr>\n",
       "      <th>21055</th>\n",
       "      <td>na grécia foi fundada por volta de  ac uma esc...</td>\n",
       "      <td>Portugese</td>\n",
       "      <td>12</td>\n",
       "    </tr>\n",
       "    <tr>\n",
       "      <th>12629</th>\n",
       "      <td>aasta aprillis sõitis mönkedamm stockholmi lä...</td>\n",
       "      <td>Estonian</td>\n",
       "      <td>4</td>\n",
       "    </tr>\n",
       "    <tr>\n",
       "      <th>3327</th>\n",
       "      <td>கலாஷ்னிக்கோவ் இரு முறை சோசலிச தொழிலாளர்களின் ம...</td>\n",
       "      <td>Tamil</td>\n",
       "      <td>18</td>\n",
       "    </tr>\n",
       "    <tr>\n",
       "      <th>7410</th>\n",
       "      <td>این موزه در شمالی‌ترین نقطه مجموعه سعد آباد قر...</td>\n",
       "      <td>Persian</td>\n",
       "      <td>11</td>\n",
       "    </tr>\n",
       "  </tbody>\n",
       "</table>\n",
       "</div>"
      ],
      "text/plain": [
       "                                                    Text   language  \\\n",
       "19202  doğum tarihi kesin olmamakla beraber nereli ve...    Turkish   \n",
       "21055  na grécia foi fundada por volta de  ac uma esc...  Portugese   \n",
       "12629   aasta aprillis sõitis mönkedamm stockholmi lä...   Estonian   \n",
       "3327   கலாஷ்னிக்கோவ் இரு முறை சோசலிச தொழிலாளர்களின் ம...      Tamil   \n",
       "7410   این موزه در شمالی‌ترین نقطه مجموعه سعد آباد قر...    Persian   \n",
       "\n",
       "       language_encoded  \n",
       "19202                20  \n",
       "21055                12  \n",
       "12629                 4  \n",
       "3327                 18  \n",
       "7410                 11  "
      ]
     },
     "execution_count": 11,
     "metadata": {},
     "output_type": "execute_result"
    }
   ],
   "source": [
    "language_dataset.sample(5)"
   ]
  },
  {
   "cell_type": "markdown",
   "id": "d700fc81",
   "metadata": {},
   "source": [
    "## Identifying which integer is assigned to which label"
   ]
  },
  {
   "cell_type": "code",
   "execution_count": 12,
   "id": "f3e07486",
   "metadata": {},
   "outputs": [],
   "source": [
    "language_label_identify_unique = language_dataset[['language', 'language_encoded']].drop_duplicates().sort_values(by='language_encoded')"
   ]
  },
  {
   "cell_type": "code",
   "execution_count": 13,
   "id": "7ba7b7d3",
   "metadata": {},
   "outputs": [
    {
     "data": {
      "text/html": [
       "<div>\n",
       "<style scoped>\n",
       "    .dataframe tbody tr th:only-of-type {\n",
       "        vertical-align: middle;\n",
       "    }\n",
       "\n",
       "    .dataframe tbody tr th {\n",
       "        vertical-align: top;\n",
       "    }\n",
       "\n",
       "    .dataframe thead th {\n",
       "        text-align: right;\n",
       "    }\n",
       "</style>\n",
       "<table border=\"1\" class=\"dataframe\">\n",
       "  <thead>\n",
       "    <tr style=\"text-align: right;\">\n",
       "      <th></th>\n",
       "      <th>language</th>\n",
       "      <th>language_encoded</th>\n",
       "    </tr>\n",
       "  </thead>\n",
       "  <tbody>\n",
       "    <tr>\n",
       "      <th>46</th>\n",
       "      <td>Arabic</td>\n",
       "      <td>0</td>\n",
       "    </tr>\n",
       "    <tr>\n",
       "      <th>13</th>\n",
       "      <td>Chinese</td>\n",
       "      <td>1</td>\n",
       "    </tr>\n",
       "    <tr>\n",
       "      <th>4</th>\n",
       "      <td>Dutch</td>\n",
       "      <td>2</td>\n",
       "    </tr>\n",
       "    <tr>\n",
       "      <th>37</th>\n",
       "      <td>English</td>\n",
       "      <td>3</td>\n",
       "    </tr>\n",
       "    <tr>\n",
       "      <th>0</th>\n",
       "      <td>Estonian</td>\n",
       "      <td>4</td>\n",
       "    </tr>\n",
       "    <tr>\n",
       "      <th>12</th>\n",
       "      <td>French</td>\n",
       "      <td>5</td>\n",
       "    </tr>\n",
       "    <tr>\n",
       "      <th>19</th>\n",
       "      <td>Hindi</td>\n",
       "      <td>6</td>\n",
       "    </tr>\n",
       "    <tr>\n",
       "      <th>10</th>\n",
       "      <td>Indonesian</td>\n",
       "      <td>7</td>\n",
       "    </tr>\n",
       "    <tr>\n",
       "      <th>5</th>\n",
       "      <td>Japanese</td>\n",
       "      <td>8</td>\n",
       "    </tr>\n",
       "    <tr>\n",
       "      <th>14</th>\n",
       "      <td>Korean</td>\n",
       "      <td>9</td>\n",
       "    </tr>\n",
       "    <tr>\n",
       "      <th>7</th>\n",
       "      <td>Latin</td>\n",
       "      <td>10</td>\n",
       "    </tr>\n",
       "    <tr>\n",
       "      <th>29</th>\n",
       "      <td>Persian</td>\n",
       "      <td>11</td>\n",
       "    </tr>\n",
       "    <tr>\n",
       "      <th>11</th>\n",
       "      <td>Portugese</td>\n",
       "      <td>12</td>\n",
       "    </tr>\n",
       "    <tr>\n",
       "      <th>27</th>\n",
       "      <td>Pushto</td>\n",
       "      <td>13</td>\n",
       "    </tr>\n",
       "    <tr>\n",
       "      <th>31</th>\n",
       "      <td>Romanian</td>\n",
       "      <td>14</td>\n",
       "    </tr>\n",
       "    <tr>\n",
       "      <th>32</th>\n",
       "      <td>Russian</td>\n",
       "      <td>15</td>\n",
       "    </tr>\n",
       "    <tr>\n",
       "      <th>21</th>\n",
       "      <td>Spanish</td>\n",
       "      <td>16</td>\n",
       "    </tr>\n",
       "    <tr>\n",
       "      <th>1</th>\n",
       "      <td>Swedish</td>\n",
       "      <td>17</td>\n",
       "    </tr>\n",
       "    <tr>\n",
       "      <th>3</th>\n",
       "      <td>Tamil</td>\n",
       "      <td>18</td>\n",
       "    </tr>\n",
       "    <tr>\n",
       "      <th>2</th>\n",
       "      <td>Thai</td>\n",
       "      <td>19</td>\n",
       "    </tr>\n",
       "    <tr>\n",
       "      <th>6</th>\n",
       "      <td>Turkish</td>\n",
       "      <td>20</td>\n",
       "    </tr>\n",
       "    <tr>\n",
       "      <th>8</th>\n",
       "      <td>Urdu</td>\n",
       "      <td>21</td>\n",
       "    </tr>\n",
       "  </tbody>\n",
       "</table>\n",
       "</div>"
      ],
      "text/plain": [
       "      language  language_encoded\n",
       "46      Arabic                 0\n",
       "13     Chinese                 1\n",
       "4        Dutch                 2\n",
       "37     English                 3\n",
       "0     Estonian                 4\n",
       "12      French                 5\n",
       "19       Hindi                 6\n",
       "10  Indonesian                 7\n",
       "5     Japanese                 8\n",
       "14      Korean                 9\n",
       "7        Latin                10\n",
       "29     Persian                11\n",
       "11   Portugese                12\n",
       "27      Pushto                13\n",
       "31    Romanian                14\n",
       "32     Russian                15\n",
       "21     Spanish                16\n",
       "1      Swedish                17\n",
       "3        Tamil                18\n",
       "2         Thai                19\n",
       "6      Turkish                20\n",
       "8         Urdu                21"
      ]
     },
     "execution_count": 13,
     "metadata": {},
     "output_type": "execute_result"
    }
   ],
   "source": [
    "language_label_identify_unique"
   ]
  },
  {
   "cell_type": "markdown",
   "id": "c2b64447",
   "metadata": {},
   "source": [
    "## Separating features and labels"
   ]
  },
  {
   "cell_type": "code",
   "execution_count": 14,
   "id": "a4877be1",
   "metadata": {},
   "outputs": [],
   "source": [
    "X = language_dataset['Text']\n",
    "y = language_dataset['language_encoded']"
   ]
  },
  {
   "cell_type": "markdown",
   "id": "ba087bc9",
   "metadata": {},
   "source": [
    "## Performing train test split"
   ]
  },
  {
   "cell_type": "code",
   "execution_count": 15,
   "id": "ee09a49c",
   "metadata": {},
   "outputs": [],
   "source": [
    "X_train, X_test, y_train, y_test = train_test_split(X, y, test_size=0.2, random_state=42)"
   ]
  },
  {
   "cell_type": "markdown",
   "id": "4d89c420",
   "metadata": {},
   "source": [
    "## Preprocessing the data"
   ]
  },
  {
   "cell_type": "code",
   "execution_count": 16,
   "id": "b12b6733",
   "metadata": {},
   "outputs": [],
   "source": [
    "y_train = to_categorical(y_train, num_classes=22)\n",
    "y_test = to_categorical(y_test, num_classes=22)"
   ]
  },
  {
   "cell_type": "code",
   "execution_count": 17,
   "id": "e980d171",
   "metadata": {},
   "outputs": [],
   "source": [
    "word_tokenizer = Tokenizer()"
   ]
  },
  {
   "cell_type": "code",
   "execution_count": 18,
   "id": "eca73709",
   "metadata": {},
   "outputs": [],
   "source": [
    "word_tokenizer.fit_on_texts(X_train)"
   ]
  },
  {
   "cell_type": "code",
   "execution_count": 19,
   "id": "9bebc7db",
   "metadata": {},
   "outputs": [],
   "source": [
    "X_train = word_tokenizer.texts_to_sequences(X_train)\n",
    "X_test = word_tokenizer.texts_to_sequences(X_test)"
   ]
  },
  {
   "cell_type": "code",
   "execution_count": 20,
   "id": "fb99280c",
   "metadata": {},
   "outputs": [],
   "source": [
    "vocab_length = len(word_tokenizer.word_index) + 1"
   ]
  },
  {
   "cell_type": "code",
   "execution_count": 21,
   "id": "4b1aa025",
   "metadata": {},
   "outputs": [],
   "source": [
    "maxlen = 100\n",
    "\n",
    "X_train = pad_sequences(X_train, padding='post', maxlen=maxlen)\n",
    "X_test = pad_sequences(X_test, padding='post', maxlen=maxlen)"
   ]
  },
  {
   "cell_type": "code",
   "execution_count": 22,
   "id": "e9080a4e",
   "metadata": {},
   "outputs": [],
   "source": [
    "embedding_dictionary = dict()\n",
    "\n",
    "glove_file = open('glove.6B.100d.txt', encoding='utf8')\n",
    "\n",
    "\n",
    "for line in glove_file:\n",
    "    records = line.split()\n",
    "    word = records[0]\n",
    "    corresponding_vector_of_the_word = np.asarray(records[1:], dtype='float32')\n",
    "    embedding_dictionary[word] = corresponding_vector_of_the_word\n",
    "\n",
    "glove_file.close()"
   ]
  },
  {
   "cell_type": "code",
   "execution_count": 23,
   "id": "26547df4",
   "metadata": {},
   "outputs": [],
   "source": [
    "embedding_matrix = np.zeros((vocab_length, 100))\n",
    "\n",
    "\n",
    "for word, index in word_tokenizer.word_index.items():\n",
    "    \n",
    "    getting_corresponding_word_from_embedding_vector = embedding_dictionary.get(word)\n",
    "    \n",
    "    if getting_corresponding_word_from_embedding_vector is not None:\n",
    "        \n",
    "        embedding_matrix[index] = getting_corresponding_word_from_embedding_vector"
   ]
  },
  {
   "cell_type": "code",
   "execution_count": 24,
   "id": "2f833cd3",
   "metadata": {},
   "outputs": [
    {
     "data": {
      "text/plain": [
       "(234753, 100)"
      ]
     },
     "execution_count": 24,
     "metadata": {},
     "output_type": "execute_result"
    }
   ],
   "source": [
    "embedding_matrix.shape"
   ]
  },
  {
   "cell_type": "markdown",
   "id": "7c79e297",
   "metadata": {},
   "source": [
    "## Creating the embedding layer"
   ]
  },
  {
   "cell_type": "code",
   "execution_count": 25,
   "id": "d4602a14",
   "metadata": {},
   "outputs": [],
   "source": [
    "embedding_layer = Embedding(vocab_length, 100, weights=[embedding_matrix], input_length=maxlen, trainable=False)"
   ]
  },
  {
   "cell_type": "markdown",
   "id": "cb866506",
   "metadata": {},
   "source": [
    "## Defining the early stop"
   ]
  },
  {
   "cell_type": "code",
   "execution_count": 26,
   "id": "e977cefd",
   "metadata": {},
   "outputs": [],
   "source": [
    "early_stop_loss = EarlyStopping(monitor='loss', patience=2)\n",
    "early_stop_val_loss = EarlyStopping(monitor='val_loss', patience=2)"
   ]
  },
  {
   "cell_type": "markdown",
   "id": "d9c41b4b",
   "metadata": {},
   "source": [
    "## Creating and training the model"
   ]
  },
  {
   "cell_type": "code",
   "execution_count": 27,
   "id": "508779b3",
   "metadata": {},
   "outputs": [],
   "source": [
    "model = Sequential()"
   ]
  },
  {
   "cell_type": "code",
   "execution_count": 28,
   "id": "6759b768",
   "metadata": {},
   "outputs": [],
   "source": [
    "model.add(embedding_layer)\n",
    "\n",
    "model.add(Conv1D(128, kernel_size=5, activation='tanh'))\n",
    "\n",
    "model.add(GlobalMaxPooling1D())\n",
    "\n",
    "model.add(Dense(128, activation='tanh'))\n",
    "\n",
    "model.add(Dense(64, activation='tanh'))\n",
    "\n",
    "model.add(Dense(32, activation='tanh'))\n",
    "\n",
    "model.add(Dense(22, activation='softmax'))"
   ]
  },
  {
   "cell_type": "code",
   "execution_count": 29,
   "id": "6309c28d",
   "metadata": {},
   "outputs": [
    {
     "name": "stdout",
     "output_type": "stream",
     "text": [
      "Model: \"sequential\"\n",
      "_________________________________________________________________\n",
      " Layer (type)                Output Shape              Param #   \n",
      "=================================================================\n",
      " embedding (Embedding)       (None, 100, 100)          23475300  \n",
      "                                                                 \n",
      " conv1d (Conv1D)             (None, 96, 128)           64128     \n",
      "                                                                 \n",
      " global_max_pooling1d (Globa  (None, 128)              0         \n",
      " lMaxPooling1D)                                                  \n",
      "                                                                 \n",
      " dense (Dense)               (None, 128)               16512     \n",
      "                                                                 \n",
      " dense_1 (Dense)             (None, 64)                8256      \n",
      "                                                                 \n",
      " dense_2 (Dense)             (None, 32)                2080      \n",
      "                                                                 \n",
      " dense_3 (Dense)             (None, 22)                726       \n",
      "                                                                 \n",
      "=================================================================\n",
      "Total params: 23,567,002\n",
      "Trainable params: 91,702\n",
      "Non-trainable params: 23,475,300\n",
      "_________________________________________________________________\n"
     ]
    }
   ],
   "source": [
    "model.summary()"
   ]
  },
  {
   "cell_type": "code",
   "execution_count": 30,
   "id": "cd538eda",
   "metadata": {},
   "outputs": [],
   "source": [
    "model.compile(optimizer=Adam(learning_rate=2e-5), loss='categorical_crossentropy', metrics=['accuracy'])"
   ]
  },
  {
   "cell_type": "code",
   "execution_count": 31,
   "id": "eee1d166",
   "metadata": {},
   "outputs": [
    {
     "name": "stdout",
     "output_type": "stream",
     "text": [
      "Epoch 1/100\n",
      "274/274 [==============================] - 23s 12ms/step - loss: 2.9469 - accuracy: 0.1645 - val_loss: 2.7802 - val_accuracy: 0.2626\n",
      "Epoch 2/100\n",
      "274/274 [==============================] - 2s 8ms/step - loss: 2.6781 - accuracy: 0.3033 - val_loss: 2.5711 - val_accuracy: 0.3232\n",
      "Epoch 3/100\n",
      "274/274 [==============================] - 3s 10ms/step - loss: 2.4832 - accuracy: 0.3726 - val_loss: 2.3855 - val_accuracy: 0.3904\n",
      "Epoch 4/100\n",
      "274/274 [==============================] - 3s 11ms/step - loss: 2.3018 - accuracy: 0.4383 - val_loss: 2.2072 - val_accuracy: 0.4495\n",
      "Epoch 5/100\n",
      "274/274 [==============================] - 3s 9ms/step - loss: 2.1298 - accuracy: 0.4965 - val_loss: 2.0419 - val_accuracy: 0.5254\n",
      "Epoch 6/100\n",
      "274/274 [==============================] - 3s 11ms/step - loss: 1.9708 - accuracy: 0.5539 - val_loss: 1.8916 - val_accuracy: 0.5730\n",
      "Epoch 7/100\n",
      "274/274 [==============================] - 3s 11ms/step - loss: 1.8273 - accuracy: 0.5894 - val_loss: 1.7568 - val_accuracy: 0.5947\n",
      "Epoch 8/100\n",
      "274/274 [==============================] - 3s 11ms/step - loss: 1.6986 - accuracy: 0.6415 - val_loss: 1.6352 - val_accuracy: 0.6555\n",
      "Epoch 9/100\n",
      "274/274 [==============================] - 3s 10ms/step - loss: 1.5830 - accuracy: 0.6600 - val_loss: 1.5278 - val_accuracy: 0.6727\n",
      "Epoch 10/100\n",
      "274/274 [==============================] - 3s 9ms/step - loss: 1.4802 - accuracy: 0.6745 - val_loss: 1.4333 - val_accuracy: 0.6812\n",
      "Epoch 11/100\n",
      "274/274 [==============================] - 3s 10ms/step - loss: 1.3895 - accuracy: 0.6844 - val_loss: 1.3487 - val_accuracy: 0.6880\n",
      "Epoch 12/100\n",
      "274/274 [==============================] - 3s 9ms/step - loss: 1.3106 - accuracy: 0.6911 - val_loss: 1.2784 - val_accuracy: 0.6953\n",
      "Epoch 13/100\n",
      "274/274 [==============================] - 3s 10ms/step - loss: 1.2422 - accuracy: 0.6958 - val_loss: 1.2166 - val_accuracy: 0.6992\n",
      "Epoch 14/100\n",
      "274/274 [==============================] - 2s 9ms/step - loss: 1.1830 - accuracy: 0.7001 - val_loss: 1.1639 - val_accuracy: 0.7033\n",
      "Epoch 15/100\n",
      "274/274 [==============================] - 2s 9ms/step - loss: 1.1314 - accuracy: 0.7042 - val_loss: 1.1155 - val_accuracy: 0.7054\n",
      "Epoch 16/100\n",
      "274/274 [==============================] - 2s 9ms/step - loss: 1.0863 - accuracy: 0.7086 - val_loss: 1.0767 - val_accuracy: 0.7072\n",
      "Epoch 17/100\n",
      "274/274 [==============================] - 2s 9ms/step - loss: 1.0468 - accuracy: 0.7132 - val_loss: 1.0421 - val_accuracy: 0.7084\n",
      "Epoch 18/100\n",
      "274/274 [==============================] - 2s 9ms/step - loss: 1.0119 - accuracy: 0.7161 - val_loss: 1.0105 - val_accuracy: 0.7113\n",
      "Epoch 19/100\n",
      "274/274 [==============================] - 3s 9ms/step - loss: 0.9809 - accuracy: 0.7213 - val_loss: 0.9838 - val_accuracy: 0.7125\n",
      "Epoch 20/100\n",
      "274/274 [==============================] - 3s 9ms/step - loss: 0.9532 - accuracy: 0.7235 - val_loss: 0.9615 - val_accuracy: 0.7143\n",
      "Epoch 21/100\n",
      "274/274 [==============================] - 2s 9ms/step - loss: 0.9282 - accuracy: 0.7254 - val_loss: 0.9396 - val_accuracy: 0.7168\n",
      "Epoch 22/100\n",
      "274/274 [==============================] - 2s 9ms/step - loss: 0.9057 - accuracy: 0.7279 - val_loss: 0.9206 - val_accuracy: 0.7191\n",
      "Epoch 23/100\n",
      "274/274 [==============================] - 3s 9ms/step - loss: 0.8851 - accuracy: 0.7295 - val_loss: 0.9056 - val_accuracy: 0.7196\n",
      "Epoch 24/100\n",
      "274/274 [==============================] - 2s 9ms/step - loss: 0.8664 - accuracy: 0.7313 - val_loss: 0.8892 - val_accuracy: 0.7210\n",
      "Epoch 25/100\n",
      "274/274 [==============================] - 2s 9ms/step - loss: 0.8493 - accuracy: 0.7324 - val_loss: 0.8759 - val_accuracy: 0.7221\n",
      "Epoch 26/100\n",
      "274/274 [==============================] - 3s 10ms/step - loss: 0.8334 - accuracy: 0.7345 - val_loss: 0.8647 - val_accuracy: 0.7232\n",
      "Epoch 27/100\n",
      "274/274 [==============================] - 3s 11ms/step - loss: 0.8190 - accuracy: 0.7364 - val_loss: 0.8525 - val_accuracy: 0.7228\n",
      "Epoch 28/100\n",
      "274/274 [==============================] - 3s 10ms/step - loss: 0.8055 - accuracy: 0.7381 - val_loss: 0.8422 - val_accuracy: 0.7235\n",
      "Epoch 29/100\n",
      "274/274 [==============================] - 2s 9ms/step - loss: 0.7930 - accuracy: 0.7395 - val_loss: 0.8330 - val_accuracy: 0.7253\n",
      "Epoch 30/100\n",
      "274/274 [==============================] - 2s 9ms/step - loss: 0.7813 - accuracy: 0.7411 - val_loss: 0.8242 - val_accuracy: 0.7251\n",
      "Epoch 31/100\n",
      "274/274 [==============================] - 2s 9ms/step - loss: 0.7705 - accuracy: 0.7425 - val_loss: 0.8178 - val_accuracy: 0.7260\n",
      "Epoch 32/100\n",
      "274/274 [==============================] - 3s 10ms/step - loss: 0.7603 - accuracy: 0.7448 - val_loss: 0.8099 - val_accuracy: 0.7280\n",
      "Epoch 33/100\n",
      "274/274 [==============================] - 3s 10ms/step - loss: 0.7506 - accuracy: 0.7464 - val_loss: 0.8033 - val_accuracy: 0.7276\n",
      "Epoch 34/100\n",
      "274/274 [==============================] - 3s 11ms/step - loss: 0.7417 - accuracy: 0.7472 - val_loss: 0.7985 - val_accuracy: 0.7276\n",
      "Epoch 35/100\n",
      "274/274 [==============================] - 3s 10ms/step - loss: 0.7331 - accuracy: 0.7495 - val_loss: 0.7935 - val_accuracy: 0.7294\n",
      "Epoch 36/100\n",
      "274/274 [==============================] - 2s 9ms/step - loss: 0.7250 - accuracy: 0.7511 - val_loss: 0.7871 - val_accuracy: 0.7306\n",
      "Epoch 37/100\n",
      "274/274 [==============================] - 2s 8ms/step - loss: 0.7175 - accuracy: 0.7516 - val_loss: 0.7839 - val_accuracy: 0.7296\n",
      "Epoch 38/100\n",
      "274/274 [==============================] - 2s 8ms/step - loss: 0.7103 - accuracy: 0.7537 - val_loss: 0.7786 - val_accuracy: 0.7319\n",
      "Epoch 39/100\n",
      "274/274 [==============================] - 2s 9ms/step - loss: 0.7033 - accuracy: 0.7543 - val_loss: 0.7744 - val_accuracy: 0.7317\n",
      "Epoch 40/100\n",
      "274/274 [==============================] - 4s 13ms/step - loss: 0.6967 - accuracy: 0.7552 - val_loss: 0.7705 - val_accuracy: 0.7322\n",
      "Epoch 41/100\n",
      "274/274 [==============================] - 3s 12ms/step - loss: 0.6904 - accuracy: 0.7564 - val_loss: 0.7670 - val_accuracy: 0.7319\n",
      "Epoch 42/100\n",
      "274/274 [==============================] - 2s 8ms/step - loss: 0.6844 - accuracy: 0.7575 - val_loss: 0.7647 - val_accuracy: 0.7324\n",
      "Epoch 43/100\n",
      "274/274 [==============================] - 2s 7ms/step - loss: 0.6786 - accuracy: 0.7591 - val_loss: 0.7612 - val_accuracy: 0.7328\n",
      "Epoch 44/100\n",
      "274/274 [==============================] - 3s 10ms/step - loss: 0.6731 - accuracy: 0.7607 - val_loss: 0.7584 - val_accuracy: 0.7328\n",
      "Epoch 45/100\n",
      "274/274 [==============================] - 3s 11ms/step - loss: 0.6678 - accuracy: 0.7603 - val_loss: 0.7558 - val_accuracy: 0.7324\n",
      "Epoch 46/100\n",
      "274/274 [==============================] - 3s 11ms/step - loss: 0.6626 - accuracy: 0.7624 - val_loss: 0.7541 - val_accuracy: 0.7333\n",
      "Epoch 47/100\n",
      "274/274 [==============================] - 3s 10ms/step - loss: 0.6578 - accuracy: 0.7639 - val_loss: 0.7509 - val_accuracy: 0.7326\n",
      "Epoch 48/100\n",
      "274/274 [==============================] - 2s 8ms/step - loss: 0.6529 - accuracy: 0.7633 - val_loss: 0.7488 - val_accuracy: 0.7331\n",
      "Epoch 49/100\n",
      "274/274 [==============================] - 3s 9ms/step - loss: 0.6483 - accuracy: 0.7654 - val_loss: 0.7472 - val_accuracy: 0.7335\n",
      "Epoch 50/100\n",
      "274/274 [==============================] - 2s 8ms/step - loss: 0.6439 - accuracy: 0.7661 - val_loss: 0.7457 - val_accuracy: 0.7338\n",
      "Epoch 51/100\n",
      "274/274 [==============================] - 2s 9ms/step - loss: 0.6396 - accuracy: 0.7664 - val_loss: 0.7445 - val_accuracy: 0.7347\n",
      "Epoch 52/100\n",
      "274/274 [==============================] - 3s 11ms/step - loss: 0.6354 - accuracy: 0.7674 - val_loss: 0.7417 - val_accuracy: 0.7344\n",
      "Epoch 53/100\n",
      "274/274 [==============================] - 3s 10ms/step - loss: 0.6315 - accuracy: 0.7677 - val_loss: 0.7402 - val_accuracy: 0.7351\n",
      "Epoch 54/100\n",
      "274/274 [==============================] - 2s 9ms/step - loss: 0.6274 - accuracy: 0.7707 - val_loss: 0.7387 - val_accuracy: 0.7347\n",
      "Epoch 55/100\n",
      "274/274 [==============================] - 3s 9ms/step - loss: 0.6236 - accuracy: 0.7694 - val_loss: 0.7386 - val_accuracy: 0.7347\n",
      "Epoch 56/100\n",
      "274/274 [==============================] - 2s 9ms/step - loss: 0.6198 - accuracy: 0.7699 - val_loss: 0.7376 - val_accuracy: 0.7335\n",
      "Epoch 57/100\n",
      "274/274 [==============================] - 3s 10ms/step - loss: 0.6163 - accuracy: 0.7717 - val_loss: 0.7362 - val_accuracy: 0.7351\n"
     ]
    },
    {
     "name": "stdout",
     "output_type": "stream",
     "text": [
      "Epoch 58/100\n",
      "274/274 [==============================] - 3s 10ms/step - loss: 0.6128 - accuracy: 0.7717 - val_loss: 0.7343 - val_accuracy: 0.7344\n",
      "Epoch 59/100\n",
      "274/274 [==============================] - 3s 9ms/step - loss: 0.6094 - accuracy: 0.7756 - val_loss: 0.7348 - val_accuracy: 0.7303\n",
      "Epoch 60/100\n",
      "274/274 [==============================] - 3s 10ms/step - loss: 0.6062 - accuracy: 0.7758 - val_loss: 0.7334 - val_accuracy: 0.7315\n",
      "Epoch 61/100\n",
      "274/274 [==============================] - 2s 9ms/step - loss: 0.6030 - accuracy: 0.7767 - val_loss: 0.7320 - val_accuracy: 0.7347\n",
      "Epoch 62/100\n",
      "274/274 [==============================] - 3s 11ms/step - loss: 0.5999 - accuracy: 0.7788 - val_loss: 0.7318 - val_accuracy: 0.7349\n",
      "Epoch 63/100\n",
      "274/274 [==============================] - 3s 11ms/step - loss: 0.5968 - accuracy: 0.7807 - val_loss: 0.7313 - val_accuracy: 0.7344\n",
      "Epoch 64/100\n",
      "274/274 [==============================] - 3s 10ms/step - loss: 0.5937 - accuracy: 0.7804 - val_loss: 0.7311 - val_accuracy: 0.7312\n",
      "Epoch 65/100\n",
      "274/274 [==============================] - 2s 9ms/step - loss: 0.5909 - accuracy: 0.7819 - val_loss: 0.7299 - val_accuracy: 0.7308\n",
      "Epoch 66/100\n",
      "274/274 [==============================] - 3s 9ms/step - loss: 0.5882 - accuracy: 0.7810 - val_loss: 0.7298 - val_accuracy: 0.7310\n",
      "Epoch 67/100\n",
      "274/274 [==============================] - 2s 9ms/step - loss: 0.5854 - accuracy: 0.7827 - val_loss: 0.7300 - val_accuracy: 0.7344\n",
      "Epoch 68/100\n",
      "274/274 [==============================] - 2s 8ms/step - loss: 0.5826 - accuracy: 0.7845 - val_loss: 0.7280 - val_accuracy: 0.7349\n",
      "Epoch 69/100\n",
      "274/274 [==============================] - 2s 9ms/step - loss: 0.5800 - accuracy: 0.7833 - val_loss: 0.7280 - val_accuracy: 0.7358\n",
      "Epoch 70/100\n",
      "274/274 [==============================] - 2s 8ms/step - loss: 0.5775 - accuracy: 0.7838 - val_loss: 0.7279 - val_accuracy: 0.7308\n",
      "Epoch 71/100\n",
      "274/274 [==============================] - 3s 9ms/step - loss: 0.5750 - accuracy: 0.7838 - val_loss: 0.7277 - val_accuracy: 0.7351\n",
      "Epoch 72/100\n",
      "274/274 [==============================] - 3s 9ms/step - loss: 0.5725 - accuracy: 0.7846 - val_loss: 0.7275 - val_accuracy: 0.7358\n",
      "Epoch 73/100\n",
      "274/274 [==============================] - 3s 11ms/step - loss: 0.5700 - accuracy: 0.7872 - val_loss: 0.7269 - val_accuracy: 0.7363\n",
      "Epoch 74/100\n",
      "274/274 [==============================] - 3s 12ms/step - loss: 0.5676 - accuracy: 0.7865 - val_loss: 0.7266 - val_accuracy: 0.7344\n",
      "Epoch 75/100\n",
      "274/274 [==============================] - 3s 11ms/step - loss: 0.5653 - accuracy: 0.7877 - val_loss: 0.7270 - val_accuracy: 0.7372\n",
      "Epoch 76/100\n",
      "274/274 [==============================] - 3s 10ms/step - loss: 0.5629 - accuracy: 0.7889 - val_loss: 0.7272 - val_accuracy: 0.7365\n"
     ]
    },
    {
     "data": {
      "text/plain": [
       "<keras.callbacks.History at 0x1cc991c0820>"
      ]
     },
     "execution_count": 31,
     "metadata": {},
     "output_type": "execute_result"
    }
   ],
   "source": [
    "model.fit(x=X_train, y=y_train, validation_data=[X_test, y_test], batch_size=64, epochs=100, callbacks=[early_stop_loss, early_stop_val_loss])"
   ]
  },
  {
   "cell_type": "markdown",
   "id": "77a138a4",
   "metadata": {},
   "source": [
    "## Plotting loss VS val_loss and accuracy VS val_accuracy graph"
   ]
  },
  {
   "cell_type": "code",
   "execution_count": 32,
   "id": "dffa08c7",
   "metadata": {},
   "outputs": [],
   "source": [
    "history = pd.DataFrame(model.history.history)"
   ]
  },
  {
   "cell_type": "code",
   "execution_count": 33,
   "id": "2f717611",
   "metadata": {},
   "outputs": [
    {
     "data": {
      "text/plain": [
       "<Axes: >"
      ]
     },
     "execution_count": 33,
     "metadata": {},
     "output_type": "execute_result"
    },
    {
     "data": {
      "image/png": "[encoded data removed]",
      "text/plain": [
       "<Figure size 640x480 with 1 Axes>"
      ]
     },
     "metadata": {},
     "output_type": "display_data"
    }
   ],
   "source": [
    "history[['loss', 'val_loss']].plot()"
   ]
  },
  {
   "cell_type": "code",
   "execution_count": 34,
   "id": "d6eb0f2a",
   "metadata": {},
   "outputs": [
    {
     "data": {
      "text/plain": [
       "<Axes: >"
      ]
     },
     "execution_count": 34,
     "metadata": {},
     "output_type": "execute_result"
    },
    {
     "data": {
      "image/png": "[encoded data removed]",
      "text/plain": [
       "<Figure size 640x480 with 1 Axes>"
      ]
     },
     "metadata": {},
     "output_type": "display_data"
    }
   ],
   "source": [
    "history[['accuracy', 'val_accuracy']].plot()"
   ]
  },
  {
   "cell_type": "markdown",
   "id": "6c64dae2",
   "metadata": {},
   "source": [
    "## Evaluating the model on training and testing data"
   ]
  },
  {
   "cell_type": "code",
   "execution_count": 35,
   "id": "b9b50ac4",
   "metadata": {},
   "outputs": [
    {
     "name": "stdout",
     "output_type": "stream",
     "text": [
      "547/547 [==============================] - 4s 6ms/step - loss: 0.5605 - accuracy: 0.7899\n"
     ]
    },
    {
     "data": {
      "text/plain": [
       "0.789901077747345"
      ]
     },
     "execution_count": 35,
     "metadata": {},
     "output_type": "execute_result"
    }
   ],
   "source": [
    "model.evaluate(X_train, y_train)[1]"
   ]
  },
  {
   "cell_type": "code",
   "execution_count": 36,
   "id": "14f744e9",
   "metadata": {},
   "outputs": [
    {
     "name": "stdout",
     "output_type": "stream",
     "text": [
      "137/137 [==============================] - 1s 8ms/step - loss: 0.7272 - accuracy: 0.7365\n"
     ]
    },
    {
     "data": {
      "text/plain": [
       "0.7365050315856934"
      ]
     },
     "execution_count": 36,
     "metadata": {},
     "output_type": "execute_result"
    }
   ],
   "source": [
    "model.evaluate(X_test, y_test)[1]"
   ]
  },
  {
   "cell_type": "markdown",
   "id": "bdc4ddfd",
   "metadata": {},
   "source": [
    "## Performing prediction on sample data"
   ]
  },
  {
   "cell_type": "code",
   "execution_count": 37,
   "id": "8084c7c2",
   "metadata": {},
   "outputs": [],
   "source": [
    "sample_data = \"klement gottwaldi surnukeha palsameeriti ning paigutati mausoleumi surnukeha oli aga liiga hilja ja oskamatult palsameeritud ning hakkas ilmutama lagunemise tundemÃ¤rke  aastal viidi ta surnukeha mausoleumist Ã¤ra ja kremeeriti zlÃ­ni linn kandis aastatel â€“ nime gottwaldov ukrainas harkivi oblastis kandis zmiivi linn aastatel â€“ nime gotvald\""
   ]
  },
  {
   "cell_type": "code",
   "execution_count": 38,
   "id": "0f875a98",
   "metadata": {},
   "outputs": [],
   "source": [
    "sample_data_sequence = word_tokenizer.texts_to_sequences([sample_data])"
   ]
  },
  {
   "cell_type": "code",
   "execution_count": 39,
   "id": "c6ee133a",
   "metadata": {},
   "outputs": [],
   "source": [
    "sample_data_padded = pad_sequences(sample_data_sequence, padding='post', maxlen=100)"
   ]
  },
  {
   "cell_type": "code",
   "execution_count": 40,
   "id": "fc715260",
   "metadata": {},
   "outputs": [
    {
     "name": "stdout",
     "output_type": "stream",
     "text": [
      "1/1 [==============================] - 1s 544ms/step\n"
     ]
    }
   ],
   "source": [
    "prediction = model.predict(sample_data_padded)"
   ]
  },
  {
   "cell_type": "code",
   "execution_count": 41,
   "id": "833da391",
   "metadata": {},
   "outputs": [],
   "source": [
    "predicted_class = np.argmax(prediction)"
   ]
  },
  {
   "cell_type": "code",
   "execution_count": 42,
   "id": "f31f370f",
   "metadata": {},
   "outputs": [],
   "source": [
    "class_names = ['Arabic', 'Chinese', 'Dutch', 'English', 'Estonian', 'French', 'Hindi', 'Indonesian', 'Japanese', 'Korean', 'Latin', 'Persian', 'Portugese', 'Pushto', 'Romanian', 'Russian', 'Spanish', 'Swedish', 'Tamil', 'Thai', 'Turkish', 'Urdu']"
   ]
  },
  {
   "cell_type": "code",
   "execution_count": 43,
   "id": "1487cb5b",
   "metadata": {},
   "outputs": [],
   "source": [
    "pred_final_result = class_names[predicted_class]"
   ]
  },
  {
   "cell_type": "code",
   "execution_count": 44,
   "id": "edde073d",
   "metadata": {},
   "outputs": [
    {
     "data": {
      "text/plain": [
       "'Estonian'"
      ]
     },
     "execution_count": 44,
     "metadata": {},
     "output_type": "execute_result"
    }
   ],
   "source": [
    "pred_final_result"
   ]
  },
  {
   "cell_type": "markdown",
   "id": "3b76a027",
   "metadata": {},
   "source": [
    "## Save the model"
   ]
  },
  {
   "cell_type": "code",
   "execution_count": 45,
   "id": "c7d1474f",
   "metadata": {},
   "outputs": [],
   "source": [
    "model.save('textCNN_model.h5')"
   ]
  },
  {
   "cell_type": "markdown",
   "id": "c476d787",
   "metadata": {},
   "source": [
    "## Save the tokenizer"
   ]
  },
  {
   "cell_type": "code",
   "execution_count": 46,
   "id": "85968316",
   "metadata": {},
   "outputs": [],
   "source": [
    "with open('word_tokenizer.pkl', 'wb') as f:\n",
    "    pickle.dump(word_tokenizer, f)"
   ]
  }
 ],
 "metadata": {
  "kernelspec": {
   "display_name": "Python 3 (ipykernel)",
   "language": "python",
   "name": "python3"
  },
  "language_info": {
   "codemirror_mode": {
    "name": "ipython",
    "version": 3
   },
   "file_extension": ".py",
   "mimetype": "text/x-python",
   "name": "python",
   "nbconvert_exporter": "python",
   "pygments_lexer": "ipython3",
   "version": "3.9.7"
  }
 },
 "nbformat": 4,
 "nbformat_minor": 5
}
