{
 "cells": [
  {
   "cell_type": "markdown",
   "id": "e60ffaeb",
   "metadata": {},
   "source": [
    "## Importing all the necessary dependencies"
   ]
  },
  {
   "cell_type": "code",
   "execution_count": 1,
   "id": "5abd1c9b",
   "metadata": {},
   "outputs": [],
   "source": [
    "import numpy as np\n",
    "import pandas as pd \n",
    "from sklearn.model_selection import train_test_split \n",
    "from sklearn.preprocessing import LabelEncoder\n",
    "from tensorflow.keras.preprocessing.text import one_hot, Tokenizer\n",
    "from tensorflow.keras.preprocessing.sequence import pad_sequences\n",
    "from tensorflow.keras.utils import to_categorical\n",
    "from tensorflow.keras.callbacks import EarlyStopping\n",
    "from tensorflow.keras.models import Model, load_model\n",
    "from tensorflow.keras.layers import Embedding, Dense, Average, Input, Flatten\n",
    "from tensorflow.keras.optimizers import Adam"
   ]
  },
  {
   "cell_type": "markdown",
   "id": "8c152a7d",
   "metadata": {},
   "source": [
    "## Loading the dataset"
   ]
  },
  {
   "cell_type": "code",
   "execution_count": 2,
   "id": "fbf318d3",
   "metadata": {},
   "outputs": [],
   "source": [
    "language_dataset = pd.read_csv('dataset.csv')"
   ]
  },
  {
   "cell_type": "code",
   "execution_count": 3,
   "id": "3650b2f3",
   "metadata": {},
   "outputs": [
    {
     "data": {
      "text/html": [
       "<div>\n",
       "<style scoped>\n",
       "    .dataframe tbody tr th:only-of-type {\n",
       "        vertical-align: middle;\n",
       "    }\n",
       "\n",
       "    .dataframe tbody tr th {\n",
       "        vertical-align: top;\n",
       "    }\n",
       "\n",
       "    .dataframe thead th {\n",
       "        text-align: right;\n",
       "    }\n",
       "</style>\n",
       "<table border=\"1\" class=\"dataframe\">\n",
       "  <thead>\n",
       "    <tr style=\"text-align: right;\">\n",
       "      <th></th>\n",
       "      <th>Text</th>\n",
       "      <th>language</th>\n",
       "    </tr>\n",
       "  </thead>\n",
       "  <tbody>\n",
       "    <tr>\n",
       "      <th>1750</th>\n",
       "      <td>کیا تم لوگوں کی مراد یہ ہے کہ خدا نے اپنے قدیم...</td>\n",
       "      <td>Urdu</td>\n",
       "    </tr>\n",
       "    <tr>\n",
       "      <th>886</th>\n",
       "      <td>мл- стреляла всем ассортиментом -мм пушечных и...</td>\n",
       "      <td>Russian</td>\n",
       "    </tr>\n",
       "    <tr>\n",
       "      <th>4899</th>\n",
       "      <td>actus quintus  nero segnitiem militum in oppri...</td>\n",
       "      <td>Latin</td>\n",
       "    </tr>\n",
       "    <tr>\n",
       "      <th>10094</th>\n",
       "      <td>de amerikaanse zwemmer michael phelps was de m...</td>\n",
       "      <td>Dutch</td>\n",
       "    </tr>\n",
       "    <tr>\n",
       "      <th>16061</th>\n",
       "      <td>артемьева е знамёна великой победы  псковская ...</td>\n",
       "      <td>Russian</td>\n",
       "    </tr>\n",
       "  </tbody>\n",
       "</table>\n",
       "</div>"
      ],
      "text/plain": [
       "                                                    Text language\n",
       "1750   کیا تم لوگوں کی مراد یہ ہے کہ خدا نے اپنے قدیم...     Urdu\n",
       "886    мл- стреляла всем ассортиментом -мм пушечных и...  Russian\n",
       "4899   actus quintus  nero segnitiem militum in oppri...    Latin\n",
       "10094  de amerikaanse zwemmer michael phelps was de m...    Dutch\n",
       "16061  артемьева е знамёна великой победы  псковская ...  Russian"
      ]
     },
     "execution_count": 3,
     "metadata": {},
     "output_type": "execute_result"
    }
   ],
   "source": [
    "language_dataset.sample(5)"
   ]
  },
  {
   "cell_type": "code",
   "execution_count": 4,
   "id": "b0a8e404",
   "metadata": {},
   "outputs": [
    {
     "data": {
      "text/plain": [
       "Text        0\n",
       "language    0\n",
       "dtype: int64"
      ]
     },
     "execution_count": 4,
     "metadata": {},
     "output_type": "execute_result"
    }
   ],
   "source": [
    "language_dataset.isnull().sum()"
   ]
  },
  {
   "cell_type": "code",
   "execution_count": 5,
   "id": "f0838060",
   "metadata": {},
   "outputs": [
    {
     "name": "stdout",
     "output_type": "stream",
     "text": [
      "<class 'pandas.core.frame.DataFrame'>\n",
      "RangeIndex: 22000 entries, 0 to 21999\n",
      "Data columns (total 2 columns):\n",
      " #   Column    Non-Null Count  Dtype \n",
      "---  ------    --------------  ----- \n",
      " 0   Text      22000 non-null  object\n",
      " 1   language  22000 non-null  object\n",
      "dtypes: object(2)\n",
      "memory usage: 343.9+ KB\n"
     ]
    }
   ],
   "source": [
    "language_dataset.info()"
   ]
  },
  {
   "cell_type": "code",
   "execution_count": 6,
   "id": "17b8dbf9",
   "metadata": {},
   "outputs": [
    {
     "data": {
      "text/plain": [
       "language\n",
       "Estonian      1000\n",
       "Swedish       1000\n",
       "English       1000\n",
       "Russian       1000\n",
       "Romanian      1000\n",
       "Persian       1000\n",
       "Pushto        1000\n",
       "Spanish       1000\n",
       "Hindi         1000\n",
       "Korean        1000\n",
       "Chinese       1000\n",
       "French        1000\n",
       "Portugese     1000\n",
       "Indonesian    1000\n",
       "Urdu          1000\n",
       "Latin         1000\n",
       "Turkish       1000\n",
       "Japanese      1000\n",
       "Dutch         1000\n",
       "Tamil         1000\n",
       "Thai          1000\n",
       "Arabic        1000\n",
       "Name: count, dtype: int64"
      ]
     },
     "execution_count": 6,
     "metadata": {},
     "output_type": "execute_result"
    }
   ],
   "source": [
    "language_dataset['language'].value_counts()"
   ]
  },
  {
   "cell_type": "markdown",
   "id": "d22582f8",
   "metadata": {},
   "source": [
    "## Checking for duplicate values in the dataset"
   ]
  },
  {
   "cell_type": "code",
   "execution_count": 7,
   "id": "6081a261",
   "metadata": {},
   "outputs": [
    {
     "data": {
      "text/plain": [
       "141"
      ]
     },
     "execution_count": 7,
     "metadata": {},
     "output_type": "execute_result"
    }
   ],
   "source": [
    "language_dataset.duplicated().sum()"
   ]
  },
  {
   "cell_type": "markdown",
   "id": "d68e6eda",
   "metadata": {},
   "source": [
    "## Dropping the duplicate values from the dataset"
   ]
  },
  {
   "cell_type": "code",
   "execution_count": 8,
   "id": "4458d52b",
   "metadata": {},
   "outputs": [],
   "source": [
    "language_dataset.drop_duplicates(inplace=True)"
   ]
  },
  {
   "cell_type": "markdown",
   "id": "43efa1c0",
   "metadata": {},
   "source": [
    "## Confirming whether the duplicate values are deleted from the dataset or not"
   ]
  },
  {
   "cell_type": "code",
   "execution_count": 9,
   "id": "fb57407f",
   "metadata": {},
   "outputs": [
    {
     "data": {
      "text/plain": [
       "0"
      ]
     },
     "execution_count": 9,
     "metadata": {},
     "output_type": "execute_result"
    }
   ],
   "source": [
    "language_dataset.duplicated().sum()"
   ]
  },
  {
   "cell_type": "markdown",
   "id": "5790ade8",
   "metadata": {},
   "source": [
    "## Encoding the labels"
   ]
  },
  {
   "cell_type": "code",
   "execution_count": 10,
   "id": "6b596e48",
   "metadata": {},
   "outputs": [],
   "source": [
    "encoder = LabelEncoder()\n",
    "\n",
    "language_dataset['language_encoded'] = encoder.fit_transform(language_dataset['language'])"
   ]
  },
  {
   "cell_type": "code",
   "execution_count": 11,
   "id": "bc782459",
   "metadata": {},
   "outputs": [
    {
     "data": {
      "text/html": [
       "<div>\n",
       "<style scoped>\n",
       "    .dataframe tbody tr th:only-of-type {\n",
       "        vertical-align: middle;\n",
       "    }\n",
       "\n",
       "    .dataframe tbody tr th {\n",
       "        vertical-align: top;\n",
       "    }\n",
       "\n",
       "    .dataframe thead th {\n",
       "        text-align: right;\n",
       "    }\n",
       "</style>\n",
       "<table border=\"1\" class=\"dataframe\">\n",
       "  <thead>\n",
       "    <tr style=\"text-align: right;\">\n",
       "      <th></th>\n",
       "      <th>Text</th>\n",
       "      <th>language</th>\n",
       "      <th>language_encoded</th>\n",
       "    </tr>\n",
       "  </thead>\n",
       "  <tbody>\n",
       "    <tr>\n",
       "      <th>20342</th>\n",
       "      <td>fookusgruppides intervjuusid andnud õpilased k...</td>\n",
       "      <td>Estonian</td>\n",
       "      <td>4</td>\n",
       "    </tr>\n",
       "    <tr>\n",
       "      <th>7014</th>\n",
       "      <td>کچھ دنوں پہلے بی بی سی ارتھ کی ایک ٹیم اس ’گرے...</td>\n",
       "      <td>Urdu</td>\n",
       "      <td>21</td>\n",
       "    </tr>\n",
       "    <tr>\n",
       "      <th>18170</th>\n",
       "      <td>grumesnil is een gemeente in het franse depart...</td>\n",
       "      <td>Dutch</td>\n",
       "      <td>2</td>\n",
       "    </tr>\n",
       "    <tr>\n",
       "      <th>11920</th>\n",
       "      <td>апреля  отправлен в отставку согласно отчёту ...</td>\n",
       "      <td>Russian</td>\n",
       "      <td>15</td>\n",
       "    </tr>\n",
       "    <tr>\n",
       "      <th>11402</th>\n",
       "      <td>ligué är ett vattendrag i kamerun det ligger i...</td>\n",
       "      <td>Swedish</td>\n",
       "      <td>17</td>\n",
       "    </tr>\n",
       "  </tbody>\n",
       "</table>\n",
       "</div>"
      ],
      "text/plain": [
       "                                                    Text  language  \\\n",
       "20342  fookusgruppides intervjuusid andnud õpilased k...  Estonian   \n",
       "7014   کچھ دنوں پہلے بی بی سی ارتھ کی ایک ٹیم اس ’گرے...      Urdu   \n",
       "18170  grumesnil is een gemeente in het franse depart...     Dutch   \n",
       "11920   апреля  отправлен в отставку согласно отчёту ...   Russian   \n",
       "11402  ligué är ett vattendrag i kamerun det ligger i...   Swedish   \n",
       "\n",
       "       language_encoded  \n",
       "20342                 4  \n",
       "7014                 21  \n",
       "18170                 2  \n",
       "11920                15  \n",
       "11402                17  "
      ]
     },
     "execution_count": 11,
     "metadata": {},
     "output_type": "execute_result"
    }
   ],
   "source": [
    "language_dataset.sample(5)"
   ]
  },
  {
   "cell_type": "markdown",
   "id": "d700fc81",
   "metadata": {},
   "source": [
    "## Identifying which integer is assigned to which label"
   ]
  },
  {
   "cell_type": "code",
   "execution_count": 12,
   "id": "f3e07486",
   "metadata": {},
   "outputs": [],
   "source": [
    "language_label_identify_unique = language_dataset[['language', 'language_encoded']].drop_duplicates().sort_values(by='language_encoded')"
   ]
  },
  {
   "cell_type": "code",
   "execution_count": 13,
   "id": "7ba7b7d3",
   "metadata": {},
   "outputs": [
    {
     "data": {
      "text/html": [
       "<div>\n",
       "<style scoped>\n",
       "    .dataframe tbody tr th:only-of-type {\n",
       "        vertical-align: middle;\n",
       "    }\n",
       "\n",
       "    .dataframe tbody tr th {\n",
       "        vertical-align: top;\n",
       "    }\n",
       "\n",
       "    .dataframe thead th {\n",
       "        text-align: right;\n",
       "    }\n",
       "</style>\n",
       "<table border=\"1\" class=\"dataframe\">\n",
       "  <thead>\n",
       "    <tr style=\"text-align: right;\">\n",
       "      <th></th>\n",
       "      <th>language</th>\n",
       "      <th>language_encoded</th>\n",
       "    </tr>\n",
       "  </thead>\n",
       "  <tbody>\n",
       "    <tr>\n",
       "      <th>46</th>\n",
       "      <td>Arabic</td>\n",
       "      <td>0</td>\n",
       "    </tr>\n",
       "    <tr>\n",
       "      <th>13</th>\n",
       "      <td>Chinese</td>\n",
       "      <td>1</td>\n",
       "    </tr>\n",
       "    <tr>\n",
       "      <th>4</th>\n",
       "      <td>Dutch</td>\n",
       "      <td>2</td>\n",
       "    </tr>\n",
       "    <tr>\n",
       "      <th>37</th>\n",
       "      <td>English</td>\n",
       "      <td>3</td>\n",
       "    </tr>\n",
       "    <tr>\n",
       "      <th>0</th>\n",
       "      <td>Estonian</td>\n",
       "      <td>4</td>\n",
       "    </tr>\n",
       "    <tr>\n",
       "      <th>12</th>\n",
       "      <td>French</td>\n",
       "      <td>5</td>\n",
       "    </tr>\n",
       "    <tr>\n",
       "      <th>19</th>\n",
       "      <td>Hindi</td>\n",
       "      <td>6</td>\n",
       "    </tr>\n",
       "    <tr>\n",
       "      <th>10</th>\n",
       "      <td>Indonesian</td>\n",
       "      <td>7</td>\n",
       "    </tr>\n",
       "    <tr>\n",
       "      <th>5</th>\n",
       "      <td>Japanese</td>\n",
       "      <td>8</td>\n",
       "    </tr>\n",
       "    <tr>\n",
       "      <th>14</th>\n",
       "      <td>Korean</td>\n",
       "      <td>9</td>\n",
       "    </tr>\n",
       "    <tr>\n",
       "      <th>7</th>\n",
       "      <td>Latin</td>\n",
       "      <td>10</td>\n",
       "    </tr>\n",
       "    <tr>\n",
       "      <th>29</th>\n",
       "      <td>Persian</td>\n",
       "      <td>11</td>\n",
       "    </tr>\n",
       "    <tr>\n",
       "      <th>11</th>\n",
       "      <td>Portugese</td>\n",
       "      <td>12</td>\n",
       "    </tr>\n",
       "    <tr>\n",
       "      <th>27</th>\n",
       "      <td>Pushto</td>\n",
       "      <td>13</td>\n",
       "    </tr>\n",
       "    <tr>\n",
       "      <th>31</th>\n",
       "      <td>Romanian</td>\n",
       "      <td>14</td>\n",
       "    </tr>\n",
       "    <tr>\n",
       "      <th>32</th>\n",
       "      <td>Russian</td>\n",
       "      <td>15</td>\n",
       "    </tr>\n",
       "    <tr>\n",
       "      <th>21</th>\n",
       "      <td>Spanish</td>\n",
       "      <td>16</td>\n",
       "    </tr>\n",
       "    <tr>\n",
       "      <th>1</th>\n",
       "      <td>Swedish</td>\n",
       "      <td>17</td>\n",
       "    </tr>\n",
       "    <tr>\n",
       "      <th>3</th>\n",
       "      <td>Tamil</td>\n",
       "      <td>18</td>\n",
       "    </tr>\n",
       "    <tr>\n",
       "      <th>2</th>\n",
       "      <td>Thai</td>\n",
       "      <td>19</td>\n",
       "    </tr>\n",
       "    <tr>\n",
       "      <th>6</th>\n",
       "      <td>Turkish</td>\n",
       "      <td>20</td>\n",
       "    </tr>\n",
       "    <tr>\n",
       "      <th>8</th>\n",
       "      <td>Urdu</td>\n",
       "      <td>21</td>\n",
       "    </tr>\n",
       "  </tbody>\n",
       "</table>\n",
       "</div>"
      ],
      "text/plain": [
       "      language  language_encoded\n",
       "46      Arabic                 0\n",
       "13     Chinese                 1\n",
       "4        Dutch                 2\n",
       "37     English                 3\n",
       "0     Estonian                 4\n",
       "12      French                 5\n",
       "19       Hindi                 6\n",
       "10  Indonesian                 7\n",
       "5     Japanese                 8\n",
       "14      Korean                 9\n",
       "7        Latin                10\n",
       "29     Persian                11\n",
       "11   Portugese                12\n",
       "27      Pushto                13\n",
       "31    Romanian                14\n",
       "32     Russian                15\n",
       "21     Spanish                16\n",
       "1      Swedish                17\n",
       "3        Tamil                18\n",
       "2         Thai                19\n",
       "6      Turkish                20\n",
       "8         Urdu                21"
      ]
     },
     "execution_count": 13,
     "metadata": {},
     "output_type": "execute_result"
    }
   ],
   "source": [
    "language_label_identify_unique"
   ]
  },
  {
   "cell_type": "markdown",
   "id": "c2b64447",
   "metadata": {},
   "source": [
    "## Separating features and labels"
   ]
  },
  {
   "cell_type": "code",
   "execution_count": 14,
   "id": "a4877be1",
   "metadata": {},
   "outputs": [],
   "source": [
    "X = language_dataset['Text']\n",
    "y = language_dataset['language_encoded']"
   ]
  },
  {
   "cell_type": "markdown",
   "id": "ba087bc9",
   "metadata": {},
   "source": [
    "## Performing train test split"
   ]
  },
  {
   "cell_type": "code",
   "execution_count": 15,
   "id": "ee09a49c",
   "metadata": {},
   "outputs": [],
   "source": [
    "X_train, X_test, y_train, y_test = train_test_split(X, y, test_size=0.2, random_state=42)"
   ]
  },
  {
   "cell_type": "markdown",
   "id": "4d89c420",
   "metadata": {},
   "source": [
    "## Preprocessing the data"
   ]
  },
  {
   "cell_type": "code",
   "execution_count": 16,
   "id": "b12b6733",
   "metadata": {},
   "outputs": [],
   "source": [
    "y_train = to_categorical(y_train, num_classes=22)\n",
    "y_test = to_categorical(y_test, num_classes=22)"
   ]
  },
  {
   "cell_type": "code",
   "execution_count": 17,
   "id": "e980d171",
   "metadata": {},
   "outputs": [],
   "source": [
    "word_tokenizer = Tokenizer()"
   ]
  },
  {
   "cell_type": "code",
   "execution_count": 18,
   "id": "eca73709",
   "metadata": {},
   "outputs": [],
   "source": [
    "word_tokenizer.fit_on_texts(X_train)"
   ]
  },
  {
   "cell_type": "code",
   "execution_count": 19,
   "id": "9bebc7db",
   "metadata": {},
   "outputs": [],
   "source": [
    "X_train = word_tokenizer.texts_to_sequences(X_train)\n",
    "X_test = word_tokenizer.texts_to_sequences(X_test)"
   ]
  },
  {
   "cell_type": "code",
   "execution_count": 20,
   "id": "fb99280c",
   "metadata": {},
   "outputs": [],
   "source": [
    "vocab_length = len(word_tokenizer.word_index) + 1"
   ]
  },
  {
   "cell_type": "code",
   "execution_count": 21,
   "id": "4b1aa025",
   "metadata": {},
   "outputs": [],
   "source": [
    "maxlen = 100\n",
    "\n",
    "X_train = pad_sequences(X_train, padding='post', maxlen=maxlen)\n",
    "X_test = pad_sequences(X_test, padding='post', maxlen=maxlen)"
   ]
  },
  {
   "cell_type": "code",
   "execution_count": 22,
   "id": "e9080a4e",
   "metadata": {},
   "outputs": [],
   "source": [
    "embedding_dictionary = dict()\n",
    "\n",
    "glove_file = open('glove.6B.100d.txt', encoding='utf8')\n",
    "\n",
    "\n",
    "for line in glove_file:\n",
    "    records = line.split()\n",
    "    word = records[0]\n",
    "    corresponding_vector_of_the_word = np.asarray(records[1:], dtype='float32')\n",
    "    embedding_dictionary[word] = corresponding_vector_of_the_word\n",
    "\n",
    "glove_file.close()"
   ]
  },
  {
   "cell_type": "code",
   "execution_count": 23,
   "id": "26547df4",
   "metadata": {},
   "outputs": [],
   "source": [
    "embedding_matrix = np.zeros((vocab_length, 100))\n",
    "\n",
    "\n",
    "for word, index in word_tokenizer.word_index.items():\n",
    "    \n",
    "    getting_corresponding_word_from_embedding_vector = embedding_dictionary.get(word)\n",
    "    \n",
    "    if getting_corresponding_word_from_embedding_vector is not None:\n",
    "        \n",
    "        embedding_matrix[index] = getting_corresponding_word_from_embedding_vector"
   ]
  },
  {
   "cell_type": "code",
   "execution_count": 24,
   "id": "2f833cd3",
   "metadata": {},
   "outputs": [
    {
     "data": {
      "text/plain": [
       "(234753, 100)"
      ]
     },
     "execution_count": 24,
     "metadata": {},
     "output_type": "execute_result"
    }
   ],
   "source": [
    "embedding_matrix.shape"
   ]
  },
  {
   "cell_type": "markdown",
   "id": "7c79e297",
   "metadata": {},
   "source": [
    "## Creating the embedding layer"
   ]
  },
  {
   "cell_type": "code",
   "execution_count": 25,
   "id": "d4602a14",
   "metadata": {},
   "outputs": [],
   "source": [
    "embedding_layer = Embedding(vocab_length, 100, weights=[embedding_matrix], input_length=maxlen, trainable=False)"
   ]
  },
  {
   "cell_type": "markdown",
   "id": "cb866506",
   "metadata": {},
   "source": [
    "## Defining the early stop"
   ]
  },
  {
   "cell_type": "code",
   "execution_count": 26,
   "id": "e977cefd",
   "metadata": {},
   "outputs": [],
   "source": [
    "early_stop_loss = EarlyStopping(monitor='loss', patience=2)\n",
    "early_stop_val_loss = EarlyStopping(monitor='val_loss', patience=2)"
   ]
  },
  {
   "cell_type": "markdown",
   "id": "d9c41b4b",
   "metadata": {},
   "source": [
    "## Creating and training the model"
   ]
  },
  {
   "cell_type": "code",
   "execution_count": 27,
   "id": "508779b3",
   "metadata": {},
   "outputs": [],
   "source": [
    "lstm_model = load_model('bidirectionallstm_model.h5', compile=False)\n",
    "gru_model = load_model('bidirectionalgru_model.h5', compile=False)"
   ]
  },
  {
   "cell_type": "code",
   "execution_count": 28,
   "id": "d5e0e986",
   "metadata": {},
   "outputs": [],
   "source": [
    "lstm_model._name = 'model1'\n",
    "gru_model._name = 'model2'"
   ]
  },
  {
   "cell_type": "code",
   "execution_count": 29,
   "id": "848c345f",
   "metadata": {},
   "outputs": [],
   "source": [
    "models = [lstm_model, gru_model]"
   ]
  },
  {
   "cell_type": "code",
   "execution_count": 30,
   "id": "54b4d941",
   "metadata": {},
   "outputs": [],
   "source": [
    "model_input = Input(shape=(maxlen,))"
   ]
  },
  {
   "cell_type": "code",
   "execution_count": 31,
   "id": "ff055f7f",
   "metadata": {},
   "outputs": [],
   "source": [
    "embedded_input = embedding_layer(model_input)"
   ]
  },
  {
   "cell_type": "code",
   "execution_count": 32,
   "id": "eb47836f",
   "metadata": {},
   "outputs": [],
   "source": [
    "flattened_input = Flatten()(model_input)"
   ]
  },
  {
   "cell_type": "code",
   "execution_count": 33,
   "id": "8a4af622",
   "metadata": {},
   "outputs": [],
   "source": [
    "model_output = [model(flattened_input) for model in models]"
   ]
  },
  {
   "cell_type": "code",
   "execution_count": 34,
   "id": "6759b768",
   "metadata": {
    "run_control": {
     "marked": false
    }
   },
   "outputs": [],
   "source": [
    "x = Average()(model_output)\n",
    "\n",
    "x = Dense(128, activation='tanh')(x)\n",
    "\n",
    "x = Dense(64, activation='tanh')(x)\n",
    "\n",
    "x = Dense(32, activation='tanh')(x)\n",
    "\n",
    "output_of_the_model = Dense(22, activation='softmax')(x)"
   ]
  },
  {
   "cell_type": "code",
   "execution_count": 35,
   "id": "b3cedc66",
   "metadata": {},
   "outputs": [],
   "source": [
    "model = Model(model_input, output_of_the_model)"
   ]
  },
  {
   "cell_type": "code",
   "execution_count": 36,
   "id": "6309c28d",
   "metadata": {},
   "outputs": [
    {
     "name": "stdout",
     "output_type": "stream",
     "text": [
      "Model: \"model\"\n",
      "__________________________________________________________________________________________________\n",
      " Layer (type)                   Output Shape         Param #     Connected to                     \n",
      "==================================================================================================\n",
      " input_1 (InputLayer)           [(None, 100)]        0           []                               \n",
      "                                                                                                  \n",
      " flatten (Flatten)              (None, 100)          0           ['input_1[0][0]']                \n",
      "                                                                                                  \n",
      " model1 (Sequential)            (None, 22)           23753754    ['flatten[0][0]']                \n",
      "                                                                                                  \n",
      " model2 (Sequential)            (None, 22)           23695898    ['flatten[0][0]']                \n",
      "                                                                                                  \n",
      " average (Average)              (None, 22)           0           ['model1[0][0]',                 \n",
      "                                                                  'model2[0][0]']                 \n",
      "                                                                                                  \n",
      " dense (Dense)                  (None, 128)          2944        ['average[0][0]']                \n",
      "                                                                                                  \n",
      " dense_1 (Dense)                (None, 64)           8256        ['dense[0][0]']                  \n",
      "                                                                                                  \n",
      " dense_2 (Dense)                (None, 32)           2080        ['dense_1[0][0]']                \n",
      "                                                                                                  \n",
      " dense_3 (Dense)                (None, 22)           726         ['dense_2[0][0]']                \n",
      "                                                                                                  \n",
      "==================================================================================================\n",
      "Total params: 47,463,658\n",
      "Trainable params: 513,058\n",
      "Non-trainable params: 46,950,600\n",
      "__________________________________________________________________________________________________\n"
     ]
    }
   ],
   "source": [
    "model.summary()"
   ]
  },
  {
   "cell_type": "code",
   "execution_count": 37,
   "id": "cd538eda",
   "metadata": {},
   "outputs": [],
   "source": [
    "model.compile(optimizer=Adam(learning_rate=2e-5), loss='categorical_crossentropy', metrics=['accuracy'])"
   ]
  },
  {
   "cell_type": "code",
   "execution_count": 38,
   "id": "eee1d166",
   "metadata": {},
   "outputs": [
    {
     "name": "stdout",
     "output_type": "stream",
     "text": [
      "Epoch 1/100\n",
      "274/274 [==============================] - 44s 103ms/step - loss: 2.9713 - accuracy: 0.1761 - val_loss: 2.8742 - val_accuracy: 0.3575\n",
      "Epoch 2/100\n",
      "274/274 [==============================] - 25s 92ms/step - loss: 2.7657 - accuracy: 0.4765 - val_loss: 2.6563 - val_accuracy: 0.5778\n",
      "Epoch 3/100\n",
      "274/274 [==============================] - 24s 89ms/step - loss: 2.5461 - accuracy: 0.6091 - val_loss: 2.4385 - val_accuracy: 0.6613\n",
      "Epoch 4/100\n",
      "274/274 [==============================] - 24s 88ms/step - loss: 2.3299 - accuracy: 0.6621 - val_loss: 2.2320 - val_accuracy: 0.6619\n",
      "Epoch 5/100\n",
      "274/274 [==============================] - 24s 86ms/step - loss: 2.1212 - accuracy: 0.6639 - val_loss: 2.0273 - val_accuracy: 0.6656\n",
      "Epoch 6/100\n",
      "274/274 [==============================] - 24s 87ms/step - loss: 1.9270 - accuracy: 0.6644 - val_loss: 1.8444 - val_accuracy: 0.6654\n",
      "Epoch 7/100\n",
      "274/274 [==============================] - 23s 86ms/step - loss: 1.7496 - accuracy: 0.6658 - val_loss: 1.6822 - val_accuracy: 0.6631\n",
      "Epoch 8/100\n",
      "274/274 [==============================] - 24s 89ms/step - loss: 1.5933 - accuracy: 0.6666 - val_loss: 1.5390 - val_accuracy: 0.6649\n",
      "Epoch 9/100\n",
      "274/274 [==============================] - 24s 86ms/step - loss: 1.4581 - accuracy: 0.6679 - val_loss: 1.4157 - val_accuracy: 0.6654\n",
      "Epoch 10/100\n",
      "274/274 [==============================] - 23s 85ms/step - loss: 1.3441 - accuracy: 0.6677 - val_loss: 1.3136 - val_accuracy: 0.6656\n",
      "Epoch 11/100\n",
      "274/274 [==============================] - 23s 85ms/step - loss: 1.2486 - accuracy: 0.6683 - val_loss: 1.2324 - val_accuracy: 0.6670\n",
      "Epoch 12/100\n",
      "274/274 [==============================] - 24s 87ms/step - loss: 1.1707 - accuracy: 0.6702 - val_loss: 1.1623 - val_accuracy: 0.6683\n",
      "Epoch 13/100\n",
      "274/274 [==============================] - 23s 85ms/step - loss: 1.1068 - accuracy: 0.6722 - val_loss: 1.1091 - val_accuracy: 0.6677\n",
      "Epoch 14/100\n",
      "274/274 [==============================] - 23s 84ms/step - loss: 1.0549 - accuracy: 0.6706 - val_loss: 1.0637 - val_accuracy: 0.6663\n",
      "Epoch 15/100\n",
      "274/274 [==============================] - 23s 85ms/step - loss: 1.0107 - accuracy: 0.6717 - val_loss: 1.0244 - val_accuracy: 0.6683\n",
      "Epoch 16/100\n",
      "274/274 [==============================] - 23s 86ms/step - loss: 0.9752 - accuracy: 0.6726 - val_loss: 0.9949 - val_accuracy: 0.6699\n",
      "Epoch 17/100\n",
      "274/274 [==============================] - 23s 85ms/step - loss: 0.9464 - accuracy: 0.6744 - val_loss: 0.9689 - val_accuracy: 0.6709\n",
      "Epoch 18/100\n",
      "274/274 [==============================] - 23s 85ms/step - loss: 0.9218 - accuracy: 0.6759 - val_loss: 0.9483 - val_accuracy: 0.6729\n",
      "Epoch 19/100\n",
      "274/274 [==============================] - 23s 85ms/step - loss: 0.8981 - accuracy: 0.6773 - val_loss: 0.9417 - val_accuracy: 0.6683\n",
      "Epoch 20/100\n",
      "274/274 [==============================] - 23s 85ms/step - loss: 0.8803 - accuracy: 0.6788 - val_loss: 0.9155 - val_accuracy: 0.6750\n",
      "Epoch 21/100\n",
      "274/274 [==============================] - 23s 85ms/step - loss: 0.8649 - accuracy: 0.6811 - val_loss: 0.9020 - val_accuracy: 0.6736\n",
      "Epoch 22/100\n",
      "274/274 [==============================] - 23s 86ms/step - loss: 0.8522 - accuracy: 0.6802 - val_loss: 0.8927 - val_accuracy: 0.6743\n",
      "Epoch 23/100\n",
      "274/274 [==============================] - 23s 85ms/step - loss: 0.8413 - accuracy: 0.6802 - val_loss: 0.8845 - val_accuracy: 0.6738\n",
      "Epoch 24/100\n",
      "274/274 [==============================] - 23s 85ms/step - loss: 0.8319 - accuracy: 0.6807 - val_loss: 0.8746 - val_accuracy: 0.7001\n",
      "Epoch 25/100\n",
      "274/274 [==============================] - 23s 86ms/step - loss: 0.8223 - accuracy: 0.6820 - val_loss: 0.8693 - val_accuracy: 0.6747\n",
      "Epoch 26/100\n",
      "274/274 [==============================] - 23s 85ms/step - loss: 0.8126 - accuracy: 0.6859 - val_loss: 0.8639 - val_accuracy: 0.6869\n",
      "Epoch 27/100\n",
      "274/274 [==============================] - 24s 87ms/step - loss: 0.8065 - accuracy: 0.6844 - val_loss: 0.8550 - val_accuracy: 0.6823\n",
      "Epoch 28/100\n",
      "274/274 [==============================] - 24s 88ms/step - loss: 0.8000 - accuracy: 0.6893 - val_loss: 0.8519 - val_accuracy: 0.6834\n",
      "Epoch 29/100\n",
      "274/274 [==============================] - 23s 84ms/step - loss: 0.7932 - accuracy: 0.6905 - val_loss: 0.8478 - val_accuracy: 0.6775\n",
      "Epoch 30/100\n",
      "274/274 [==============================] - 23s 85ms/step - loss: 0.7889 - accuracy: 0.6865 - val_loss: 0.8471 - val_accuracy: 0.6768\n",
      "Epoch 31/100\n",
      "274/274 [==============================] - 25s 92ms/step - loss: 0.7855 - accuracy: 0.6916 - val_loss: 0.8419 - val_accuracy: 0.6914\n",
      "Epoch 32/100\n",
      "274/274 [==============================] - 24s 89ms/step - loss: 0.7794 - accuracy: 0.6941 - val_loss: 0.8392 - val_accuracy: 0.6976\n",
      "Epoch 33/100\n",
      "274/274 [==============================] - 25s 90ms/step - loss: 0.7749 - accuracy: 0.7005 - val_loss: 0.8369 - val_accuracy: 0.6825\n",
      "Epoch 34/100\n",
      "274/274 [==============================] - 24s 89ms/step - loss: 0.7716 - accuracy: 0.6977 - val_loss: 0.8350 - val_accuracy: 0.6960\n",
      "Epoch 35/100\n",
      "274/274 [==============================] - 23s 85ms/step - loss: 0.7672 - accuracy: 0.7050 - val_loss: 0.8308 - val_accuracy: 0.6978\n",
      "Epoch 36/100\n",
      "274/274 [==============================] - 24s 86ms/step - loss: 0.7624 - accuracy: 0.7138 - val_loss: 0.8270 - val_accuracy: 0.7052\n",
      "Epoch 37/100\n",
      "274/274 [==============================] - 24s 86ms/step - loss: 0.7553 - accuracy: 0.7211 - val_loss: 0.8226 - val_accuracy: 0.7084\n",
      "Epoch 38/100\n",
      "274/274 [==============================] - 23s 86ms/step - loss: 0.7489 - accuracy: 0.7258 - val_loss: 0.8160 - val_accuracy: 0.7097\n",
      "Epoch 39/100\n",
      "274/274 [==============================] - 24s 86ms/step - loss: 0.7414 - accuracy: 0.7265 - val_loss: 0.8112 - val_accuracy: 0.7141\n",
      "Epoch 40/100\n",
      "274/274 [==============================] - 24s 87ms/step - loss: 0.7363 - accuracy: 0.7280 - val_loss: 0.8057 - val_accuracy: 0.7116\n",
      "Epoch 41/100\n",
      "274/274 [==============================] - 24s 86ms/step - loss: 0.7308 - accuracy: 0.7284 - val_loss: 0.7985 - val_accuracy: 0.7113\n",
      "Epoch 42/100\n",
      "274/274 [==============================] - 24s 86ms/step - loss: 0.7241 - accuracy: 0.7293 - val_loss: 0.7937 - val_accuracy: 0.7127\n",
      "Epoch 43/100\n",
      "274/274 [==============================] - 24s 86ms/step - loss: 0.7180 - accuracy: 0.7297 - val_loss: 0.7898 - val_accuracy: 0.7134\n",
      "Epoch 44/100\n",
      "274/274 [==============================] - 24s 86ms/step - loss: 0.7141 - accuracy: 0.7311 - val_loss: 0.7888 - val_accuracy: 0.7104\n",
      "Epoch 45/100\n",
      "274/274 [==============================] - 24s 86ms/step - loss: 0.7106 - accuracy: 0.7311 - val_loss: 0.7825 - val_accuracy: 0.7127\n",
      "Epoch 46/100\n",
      "274/274 [==============================] - 24s 86ms/step - loss: 0.7066 - accuracy: 0.7317 - val_loss: 0.7806 - val_accuracy: 0.7120\n",
      "Epoch 47/100\n",
      "274/274 [==============================] - 23s 86ms/step - loss: 0.7036 - accuracy: 0.7329 - val_loss: 0.7802 - val_accuracy: 0.7132\n",
      "Epoch 48/100\n",
      "274/274 [==============================] - 24s 87ms/step - loss: 0.7007 - accuracy: 0.7327 - val_loss: 0.7764 - val_accuracy: 0.7141\n",
      "Epoch 49/100\n",
      "274/274 [==============================] - 24s 86ms/step - loss: 0.7012 - accuracy: 0.7320 - val_loss: 0.7777 - val_accuracy: 0.7120\n",
      "Epoch 50/100\n",
      "274/274 [==============================] - 24s 86ms/step - loss: 0.6971 - accuracy: 0.7321 - val_loss: 0.7749 - val_accuracy: 0.7136\n",
      "Epoch 51/100\n",
      "274/274 [==============================] - 24s 87ms/step - loss: 0.6940 - accuracy: 0.7321 - val_loss: 0.7710 - val_accuracy: 0.7182\n",
      "Epoch 52/100\n",
      "274/274 [==============================] - 24s 88ms/step - loss: 0.6918 - accuracy: 0.7327 - val_loss: 0.7717 - val_accuracy: 0.7139\n",
      "Epoch 53/100\n",
      "274/274 [==============================] - 24s 89ms/step - loss: 0.6884 - accuracy: 0.7333 - val_loss: 0.7672 - val_accuracy: 0.7191\n",
      "Epoch 54/100\n",
      "274/274 [==============================] - 24s 86ms/step - loss: 0.6862 - accuracy: 0.7333 - val_loss: 0.7673 - val_accuracy: 0.7187\n",
      "Epoch 55/100\n",
      "274/274 [==============================] - 24s 87ms/step - loss: 0.6839 - accuracy: 0.7360 - val_loss: 0.7690 - val_accuracy: 0.7180\n"
     ]
    },
    {
     "data": {
      "text/plain": [
       "<keras.callbacks.History at 0x1108797ff40>"
      ]
     },
     "execution_count": 38,
     "metadata": {},
     "output_type": "execute_result"
    }
   ],
   "source": [
    "model.fit(x=X_train, y=y_train, validation_data=[X_test, y_test], batch_size=64, epochs=100, callbacks=[early_stop_loss, early_stop_val_loss])"
   ]
  },
  {
   "cell_type": "markdown",
   "id": "77a138a4",
   "metadata": {},
   "source": [
    "## Plotting loss VS val_loss and accuracy VS val_accuracy graph"
   ]
  },
  {
   "cell_type": "code",
   "execution_count": 39,
   "id": "dffa08c7",
   "metadata": {},
   "outputs": [],
   "source": [
    "history = pd.DataFrame(model.history.history)"
   ]
  },
  {
   "cell_type": "code",
   "execution_count": 40,
   "id": "2f717611",
   "metadata": {},
   "outputs": [
    {
     "data": {
      "text/plain": [
       "<Axes: >"
      ]
     },
     "execution_count": 40,
     "metadata": {},
     "output_type": "execute_result"
    },
    {
     "data": {
      "image/png": "[encoded data removed]",
      "text/plain": [
       "<Figure size 640x480 with 1 Axes>"
      ]
     },
     "metadata": {},
     "output_type": "display_data"
    }
   ],
   "source": [
    "history[['loss', 'val_loss']].plot()"
   ]
  },
  {
   "cell_type": "code",
   "execution_count": 41,
   "id": "d6eb0f2a",
   "metadata": {},
   "outputs": [
    {
     "data": {
      "text/plain": [
       "<Axes: >"
      ]
     },
     "execution_count": 41,
     "metadata": {},
     "output_type": "execute_result"
    },
    {
     "data": {
      "image/png": "[encoded data removed]",
      "text/plain": [
       "<Figure size 640x480 with 1 Axes>"
      ]
     },
     "metadata": {},
     "output_type": "display_data"
    }
   ],
   "source": [
    "history[['accuracy', 'val_accuracy']].plot()"
   ]
  },
  {
   "cell_type": "markdown",
   "id": "6c64dae2",
   "metadata": {},
   "source": [
    "## Evaluating the model on training and testing data"
   ]
  },
  {
   "cell_type": "code",
   "execution_count": 42,
   "id": "b9b50ac4",
   "metadata": {},
   "outputs": [
    {
     "name": "stdout",
     "output_type": "stream",
     "text": [
      "547/547 [==============================] - 17s 31ms/step - loss: 0.6823 - accuracy: 0.7359\n"
     ]
    },
    {
     "data": {
      "text/plain": [
       "0.7359181046485901"
      ]
     },
     "execution_count": 42,
     "metadata": {},
     "output_type": "execute_result"
    }
   ],
   "source": [
    "model.evaluate(X_train, y_train)[1]"
   ]
  },
  {
   "cell_type": "code",
   "execution_count": 43,
   "id": "14f744e9",
   "metadata": {},
   "outputs": [
    {
     "name": "stdout",
     "output_type": "stream",
     "text": [
      "137/137 [==============================] - 4s 32ms/step - loss: 0.7690 - accuracy: 0.7180\n"
     ]
    },
    {
     "data": {
      "text/plain": [
       "0.7179780602455139"
      ]
     },
     "execution_count": 43,
     "metadata": {},
     "output_type": "execute_result"
    }
   ],
   "source": [
    "model.evaluate(X_test, y_test)[1]"
   ]
  },
  {
   "cell_type": "markdown",
   "id": "bdc4ddfd",
   "metadata": {},
   "source": [
    "## Performing prediction on sample data"
   ]
  },
  {
   "cell_type": "code",
   "execution_count": 44,
   "id": "8084c7c2",
   "metadata": {},
   "outputs": [],
   "source": [
    "sample_data = \"klement gottwaldi surnukeha palsameeriti ning paigutati mausoleumi surnukeha oli aga liiga hilja ja oskamatult palsameeritud ning hakkas ilmutama lagunemise tundemÃ¤rke  aastal viidi ta surnukeha mausoleumist Ã¤ra ja kremeeriti zlÃ­ni linn kandis aastatel â€“ nime gottwaldov ukrainas harkivi oblastis kandis zmiivi linn aastatel â€“ nime gotvald\""
   ]
  },
  {
   "cell_type": "code",
   "execution_count": 45,
   "id": "0f875a98",
   "metadata": {},
   "outputs": [],
   "source": [
    "sample_data_sequence = word_tokenizer.texts_to_sequences([sample_data])"
   ]
  },
  {
   "cell_type": "code",
   "execution_count": 46,
   "id": "c6ee133a",
   "metadata": {},
   "outputs": [],
   "source": [
    "sample_data_padded = pad_sequences(sample_data_sequence, padding='post', maxlen=100)"
   ]
  },
  {
   "cell_type": "code",
   "execution_count": 47,
   "id": "fc715260",
   "metadata": {},
   "outputs": [
    {
     "name": "stdout",
     "output_type": "stream",
     "text": [
      "1/1 [==============================] - 2s 2s/step\n"
     ]
    }
   ],
   "source": [
    "prediction = model.predict(sample_data_padded)"
   ]
  },
  {
   "cell_type": "code",
   "execution_count": 48,
   "id": "833da391",
   "metadata": {},
   "outputs": [],
   "source": [
    "predicted_class = np.argmax(prediction)"
   ]
  },
  {
   "cell_type": "code",
   "execution_count": 49,
   "id": "f31f370f",
   "metadata": {},
   "outputs": [],
   "source": [
    "class_names = ['Arabic', 'Chinese', 'Dutch', 'English', 'Estonian', 'French', 'Hindi', 'Indonesian', 'Japanese', 'Korean', 'Latin', 'Persian', 'Portugese', 'Pushto', 'Romanian', 'Russian', 'Spanish', 'Swedish', 'Tamil', 'Thai', 'Turkish', 'Urdu']"
   ]
  },
  {
   "cell_type": "code",
   "execution_count": 50,
   "id": "1487cb5b",
   "metadata": {},
   "outputs": [],
   "source": [
    "pred_final_result = class_names[predicted_class]"
   ]
  },
  {
   "cell_type": "code",
   "execution_count": 51,
   "id": "edde073d",
   "metadata": {},
   "outputs": [
    {
     "data": {
      "text/plain": [
       "'Estonian'"
      ]
     },
     "execution_count": 51,
     "metadata": {},
     "output_type": "execute_result"
    }
   ],
   "source": [
    "pred_final_result"
   ]
  }
 ],
 "metadata": {
  "kernelspec": {
   "display_name": "Python 3 (ipykernel)",
   "language": "python",
   "name": "python3"
  },
  "language_info": {
   "codemirror_mode": {
    "name": "ipython",
    "version": 3
   },
   "file_extension": ".py",
   "mimetype": "text/x-python",
   "name": "python",
   "nbconvert_exporter": "python",
   "pygments_lexer": "ipython3",
   "version": "3.9.7"
  }
 },
 "nbformat": 4,
 "nbformat_minor": 5
}
