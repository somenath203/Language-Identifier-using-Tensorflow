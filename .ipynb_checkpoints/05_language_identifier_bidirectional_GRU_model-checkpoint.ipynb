{
 "cells": [
  {
   "cell_type": "markdown",
   "id": "e60ffaeb",
   "metadata": {},
   "source": [
    "## Importing all the necessary dependencies"
   ]
  },
  {
   "cell_type": "code",
   "execution_count": 1,
   "id": "5abd1c9b",
   "metadata": {},
   "outputs": [],
   "source": [
    "import numpy as np\n",
    "import pandas as pd \n",
    "from sklearn.model_selection import train_test_split \n",
    "from sklearn.preprocessing import LabelEncoder\n",
    "from tensorflow.keras.preprocessing.text import one_hot, Tokenizer\n",
    "from tensorflow.keras.preprocessing.sequence import pad_sequences\n",
    "from tensorflow.keras.utils import to_categorical\n",
    "from tensorflow.keras.callbacks import EarlyStopping\n",
    "from tensorflow.keras.models import Sequential\n",
    "from tensorflow.keras.layers import Embedding, Dense, GRU, Bidirectional\n",
    "from tensorflow.keras.optimizers import Adam"
   ]
  },
  {
   "cell_type": "markdown",
   "id": "8c152a7d",
   "metadata": {},
   "source": [
    "## Loading the dataset"
   ]
  },
  {
   "cell_type": "code",
   "execution_count": 2,
   "id": "fbf318d3",
   "metadata": {},
   "outputs": [],
   "source": [
    "language_dataset = pd.read_csv('dataset.csv')"
   ]
  },
  {
   "cell_type": "code",
   "execution_count": 3,
   "id": "3650b2f3",
   "metadata": {},
   "outputs": [
    {
     "data": {
      "text/html": [
       "<div>\n",
       "<style scoped>\n",
       "    .dataframe tbody tr th:only-of-type {\n",
       "        vertical-align: middle;\n",
       "    }\n",
       "\n",
       "    .dataframe tbody tr th {\n",
       "        vertical-align: top;\n",
       "    }\n",
       "\n",
       "    .dataframe thead th {\n",
       "        text-align: right;\n",
       "    }\n",
       "</style>\n",
       "<table border=\"1\" class=\"dataframe\">\n",
       "  <thead>\n",
       "    <tr style=\"text-align: right;\">\n",
       "      <th></th>\n",
       "      <th>Text</th>\n",
       "      <th>language</th>\n",
       "    </tr>\n",
       "  </thead>\n",
       "  <tbody>\n",
       "    <tr>\n",
       "      <th>21202</th>\n",
       "      <td>그렇지만 미국은 오브레곤이 미국 오일 회사들을 몰수하지 않겠다고 약속한 년의 부카렐...</td>\n",
       "      <td>Korean</td>\n",
       "    </tr>\n",
       "    <tr>\n",
       "      <th>3471</th>\n",
       "      <td>ความเป็นอยู่ของมนุษย์ในทวีปทั้ง  ยกเว้นชมพูทวี...</td>\n",
       "      <td>Thai</td>\n",
       "    </tr>\n",
       "    <tr>\n",
       "      <th>15940</th>\n",
       "      <td>боевые столкновения теракты и полицейские опер...</td>\n",
       "      <td>Russian</td>\n",
       "    </tr>\n",
       "    <tr>\n",
       "      <th>3614</th>\n",
       "      <td>कई स्थानों और उच्च पदों पर काम करते हुए पं डोग...</td>\n",
       "      <td>Hindi</td>\n",
       "    </tr>\n",
       "    <tr>\n",
       "      <th>20490</th>\n",
       "      <td>сами кагальные постановления использованные бр...</td>\n",
       "      <td>Russian</td>\n",
       "    </tr>\n",
       "  </tbody>\n",
       "</table>\n",
       "</div>"
      ],
      "text/plain": [
       "                                                    Text language\n",
       "21202  그렇지만 미국은 오브레곤이 미국 오일 회사들을 몰수하지 않겠다고 약속한 년의 부카렐...   Korean\n",
       "3471   ความเป็นอยู่ของมนุษย์ในทวีปทั้ง  ยกเว้นชมพูทวี...     Thai\n",
       "15940  боевые столкновения теракты и полицейские опер...  Russian\n",
       "3614   कई स्थानों और उच्च पदों पर काम करते हुए पं डोग...    Hindi\n",
       "20490  сами кагальные постановления использованные бр...  Russian"
      ]
     },
     "execution_count": 3,
     "metadata": {},
     "output_type": "execute_result"
    }
   ],
   "source": [
    "language_dataset.sample(5)"
   ]
  },
  {
   "cell_type": "code",
   "execution_count": 4,
   "id": "b0a8e404",
   "metadata": {},
   "outputs": [
    {
     "data": {
      "text/plain": [
       "Text        0\n",
       "language    0\n",
       "dtype: int64"
      ]
     },
     "execution_count": 4,
     "metadata": {},
     "output_type": "execute_result"
    }
   ],
   "source": [
    "language_dataset.isnull().sum()"
   ]
  },
  {
   "cell_type": "code",
   "execution_count": 5,
   "id": "f0838060",
   "metadata": {},
   "outputs": [
    {
     "name": "stdout",
     "output_type": "stream",
     "text": [
      "<class 'pandas.core.frame.DataFrame'>\n",
      "RangeIndex: 22000 entries, 0 to 21999\n",
      "Data columns (total 2 columns):\n",
      " #   Column    Non-Null Count  Dtype \n",
      "---  ------    --------------  ----- \n",
      " 0   Text      22000 non-null  object\n",
      " 1   language  22000 non-null  object\n",
      "dtypes: object(2)\n",
      "memory usage: 343.9+ KB\n"
     ]
    }
   ],
   "source": [
    "language_dataset.info()"
   ]
  },
  {
   "cell_type": "code",
   "execution_count": 6,
   "id": "17b8dbf9",
   "metadata": {},
   "outputs": [
    {
     "data": {
      "text/plain": [
       "language\n",
       "Estonian      1000\n",
       "Swedish       1000\n",
       "English       1000\n",
       "Russian       1000\n",
       "Romanian      1000\n",
       "Persian       1000\n",
       "Pushto        1000\n",
       "Spanish       1000\n",
       "Hindi         1000\n",
       "Korean        1000\n",
       "Chinese       1000\n",
       "French        1000\n",
       "Portugese     1000\n",
       "Indonesian    1000\n",
       "Urdu          1000\n",
       "Latin         1000\n",
       "Turkish       1000\n",
       "Japanese      1000\n",
       "Dutch         1000\n",
       "Tamil         1000\n",
       "Thai          1000\n",
       "Arabic        1000\n",
       "Name: count, dtype: int64"
      ]
     },
     "execution_count": 6,
     "metadata": {},
     "output_type": "execute_result"
    }
   ],
   "source": [
    "language_dataset['language'].value_counts()"
   ]
  },
  {
   "cell_type": "markdown",
   "id": "d22582f8",
   "metadata": {},
   "source": [
    "## Checking for duplicate values in the dataset"
   ]
  },
  {
   "cell_type": "code",
   "execution_count": 7,
   "id": "6081a261",
   "metadata": {},
   "outputs": [
    {
     "data": {
      "text/plain": [
       "141"
      ]
     },
     "execution_count": 7,
     "metadata": {},
     "output_type": "execute_result"
    }
   ],
   "source": [
    "language_dataset.duplicated().sum()"
   ]
  },
  {
   "cell_type": "markdown",
   "id": "d68e6eda",
   "metadata": {},
   "source": [
    "## Dropping the duplicate values from the dataset"
   ]
  },
  {
   "cell_type": "code",
   "execution_count": 8,
   "id": "4458d52b",
   "metadata": {},
   "outputs": [],
   "source": [
    "language_dataset.drop_duplicates(inplace=True)"
   ]
  },
  {
   "cell_type": "markdown",
   "id": "43efa1c0",
   "metadata": {},
   "source": [
    "## Confirming whether the duplicate values are deleted from the dataset or not"
   ]
  },
  {
   "cell_type": "code",
   "execution_count": 9,
   "id": "fb57407f",
   "metadata": {},
   "outputs": [
    {
     "data": {
      "text/plain": [
       "0"
      ]
     },
     "execution_count": 9,
     "metadata": {},
     "output_type": "execute_result"
    }
   ],
   "source": [
    "language_dataset.duplicated().sum()"
   ]
  },
  {
   "cell_type": "markdown",
   "id": "5790ade8",
   "metadata": {},
   "source": [
    "## Encoding the labels"
   ]
  },
  {
   "cell_type": "code",
   "execution_count": 10,
   "id": "6b596e48",
   "metadata": {},
   "outputs": [],
   "source": [
    "encoder = LabelEncoder()\n",
    "\n",
    "language_dataset['language_encoded'] = encoder.fit_transform(language_dataset['language'])"
   ]
  },
  {
   "cell_type": "code",
   "execution_count": 11,
   "id": "bc782459",
   "metadata": {},
   "outputs": [
    {
     "data": {
      "text/html": [
       "<div>\n",
       "<style scoped>\n",
       "    .dataframe tbody tr th:only-of-type {\n",
       "        vertical-align: middle;\n",
       "    }\n",
       "\n",
       "    .dataframe tbody tr th {\n",
       "        vertical-align: top;\n",
       "    }\n",
       "\n",
       "    .dataframe thead th {\n",
       "        text-align: right;\n",
       "    }\n",
       "</style>\n",
       "<table border=\"1\" class=\"dataframe\">\n",
       "  <thead>\n",
       "    <tr style=\"text-align: right;\">\n",
       "      <th></th>\n",
       "      <th>Text</th>\n",
       "      <th>language</th>\n",
       "      <th>language_encoded</th>\n",
       "    </tr>\n",
       "  </thead>\n",
       "  <tbody>\n",
       "    <tr>\n",
       "      <th>10136</th>\n",
       "      <td>ve larda takma adıyla vikinin özellikle kuant...</td>\n",
       "      <td>Turkish</td>\n",
       "      <td>20</td>\n",
       "    </tr>\n",
       "    <tr>\n",
       "      <th>141</th>\n",
       "      <td>ஸ்ரீநிவாச கல்யாணம்  ஆம் ஆண்டு வெளிவந்த தமிழ்ப்...</td>\n",
       "      <td>Tamil</td>\n",
       "      <td>18</td>\n",
       "    </tr>\n",
       "    <tr>\n",
       "      <th>12315</th>\n",
       "      <td>ثم يحسب فرق زمن دوران الأرض حول نفسها بين المد...</td>\n",
       "      <td>Arabic</td>\n",
       "      <td>0</td>\n",
       "    </tr>\n",
       "    <tr>\n",
       "      <th>17743</th>\n",
       "      <td>i trakten råder ett hett ökenklimat årsmedelte...</td>\n",
       "      <td>Swedish</td>\n",
       "      <td>17</td>\n",
       "    </tr>\n",
       "    <tr>\n",
       "      <th>7646</th>\n",
       "      <td>de  kilometer voor mannen werd na de diskwalif...</td>\n",
       "      <td>Dutch</td>\n",
       "      <td>2</td>\n",
       "    </tr>\n",
       "  </tbody>\n",
       "</table>\n",
       "</div>"
      ],
      "text/plain": [
       "                                                    Text language  \\\n",
       "10136   ve larda takma adıyla vikinin özellikle kuant...  Turkish   \n",
       "141    ஸ்ரீநிவாச கல்யாணம்  ஆம் ஆண்டு வெளிவந்த தமிழ்ப்...    Tamil   \n",
       "12315  ثم يحسب فرق زمن دوران الأرض حول نفسها بين المد...   Arabic   \n",
       "17743  i trakten råder ett hett ökenklimat årsmedelte...  Swedish   \n",
       "7646   de  kilometer voor mannen werd na de diskwalif...    Dutch   \n",
       "\n",
       "       language_encoded  \n",
       "10136                20  \n",
       "141                  18  \n",
       "12315                 0  \n",
       "17743                17  \n",
       "7646                  2  "
      ]
     },
     "execution_count": 11,
     "metadata": {},
     "output_type": "execute_result"
    }
   ],
   "source": [
    "language_dataset.sample(5)"
   ]
  },
  {
   "cell_type": "markdown",
   "id": "d700fc81",
   "metadata": {},
   "source": [
    "## Identifying which integer is assigned to which label"
   ]
  },
  {
   "cell_type": "code",
   "execution_count": 12,
   "id": "f3e07486",
   "metadata": {},
   "outputs": [],
   "source": [
    "language_label_identify_unique = language_dataset[['language', 'language_encoded']].drop_duplicates().sort_values(by='language_encoded')"
   ]
  },
  {
   "cell_type": "code",
   "execution_count": 13,
   "id": "7ba7b7d3",
   "metadata": {},
   "outputs": [
    {
     "data": {
      "text/html": [
       "<div>\n",
       "<style scoped>\n",
       "    .dataframe tbody tr th:only-of-type {\n",
       "        vertical-align: middle;\n",
       "    }\n",
       "\n",
       "    .dataframe tbody tr th {\n",
       "        vertical-align: top;\n",
       "    }\n",
       "\n",
       "    .dataframe thead th {\n",
       "        text-align: right;\n",
       "    }\n",
       "</style>\n",
       "<table border=\"1\" class=\"dataframe\">\n",
       "  <thead>\n",
       "    <tr style=\"text-align: right;\">\n",
       "      <th></th>\n",
       "      <th>language</th>\n",
       "      <th>language_encoded</th>\n",
       "    </tr>\n",
       "  </thead>\n",
       "  <tbody>\n",
       "    <tr>\n",
       "      <th>46</th>\n",
       "      <td>Arabic</td>\n",
       "      <td>0</td>\n",
       "    </tr>\n",
       "    <tr>\n",
       "      <th>13</th>\n",
       "      <td>Chinese</td>\n",
       "      <td>1</td>\n",
       "    </tr>\n",
       "    <tr>\n",
       "      <th>4</th>\n",
       "      <td>Dutch</td>\n",
       "      <td>2</td>\n",
       "    </tr>\n",
       "    <tr>\n",
       "      <th>37</th>\n",
       "      <td>English</td>\n",
       "      <td>3</td>\n",
       "    </tr>\n",
       "    <tr>\n",
       "      <th>0</th>\n",
       "      <td>Estonian</td>\n",
       "      <td>4</td>\n",
       "    </tr>\n",
       "    <tr>\n",
       "      <th>12</th>\n",
       "      <td>French</td>\n",
       "      <td>5</td>\n",
       "    </tr>\n",
       "    <tr>\n",
       "      <th>19</th>\n",
       "      <td>Hindi</td>\n",
       "      <td>6</td>\n",
       "    </tr>\n",
       "    <tr>\n",
       "      <th>10</th>\n",
       "      <td>Indonesian</td>\n",
       "      <td>7</td>\n",
       "    </tr>\n",
       "    <tr>\n",
       "      <th>5</th>\n",
       "      <td>Japanese</td>\n",
       "      <td>8</td>\n",
       "    </tr>\n",
       "    <tr>\n",
       "      <th>14</th>\n",
       "      <td>Korean</td>\n",
       "      <td>9</td>\n",
       "    </tr>\n",
       "    <tr>\n",
       "      <th>7</th>\n",
       "      <td>Latin</td>\n",
       "      <td>10</td>\n",
       "    </tr>\n",
       "    <tr>\n",
       "      <th>29</th>\n",
       "      <td>Persian</td>\n",
       "      <td>11</td>\n",
       "    </tr>\n",
       "    <tr>\n",
       "      <th>11</th>\n",
       "      <td>Portugese</td>\n",
       "      <td>12</td>\n",
       "    </tr>\n",
       "    <tr>\n",
       "      <th>27</th>\n",
       "      <td>Pushto</td>\n",
       "      <td>13</td>\n",
       "    </tr>\n",
       "    <tr>\n",
       "      <th>31</th>\n",
       "      <td>Romanian</td>\n",
       "      <td>14</td>\n",
       "    </tr>\n",
       "    <tr>\n",
       "      <th>32</th>\n",
       "      <td>Russian</td>\n",
       "      <td>15</td>\n",
       "    </tr>\n",
       "    <tr>\n",
       "      <th>21</th>\n",
       "      <td>Spanish</td>\n",
       "      <td>16</td>\n",
       "    </tr>\n",
       "    <tr>\n",
       "      <th>1</th>\n",
       "      <td>Swedish</td>\n",
       "      <td>17</td>\n",
       "    </tr>\n",
       "    <tr>\n",
       "      <th>3</th>\n",
       "      <td>Tamil</td>\n",
       "      <td>18</td>\n",
       "    </tr>\n",
       "    <tr>\n",
       "      <th>2</th>\n",
       "      <td>Thai</td>\n",
       "      <td>19</td>\n",
       "    </tr>\n",
       "    <tr>\n",
       "      <th>6</th>\n",
       "      <td>Turkish</td>\n",
       "      <td>20</td>\n",
       "    </tr>\n",
       "    <tr>\n",
       "      <th>8</th>\n",
       "      <td>Urdu</td>\n",
       "      <td>21</td>\n",
       "    </tr>\n",
       "  </tbody>\n",
       "</table>\n",
       "</div>"
      ],
      "text/plain": [
       "      language  language_encoded\n",
       "46      Arabic                 0\n",
       "13     Chinese                 1\n",
       "4        Dutch                 2\n",
       "37     English                 3\n",
       "0     Estonian                 4\n",
       "12      French                 5\n",
       "19       Hindi                 6\n",
       "10  Indonesian                 7\n",
       "5     Japanese                 8\n",
       "14      Korean                 9\n",
       "7        Latin                10\n",
       "29     Persian                11\n",
       "11   Portugese                12\n",
       "27      Pushto                13\n",
       "31    Romanian                14\n",
       "32     Russian                15\n",
       "21     Spanish                16\n",
       "1      Swedish                17\n",
       "3        Tamil                18\n",
       "2         Thai                19\n",
       "6      Turkish                20\n",
       "8         Urdu                21"
      ]
     },
     "execution_count": 13,
     "metadata": {},
     "output_type": "execute_result"
    }
   ],
   "source": [
    "language_label_identify_unique"
   ]
  },
  {
   "cell_type": "markdown",
   "id": "c2b64447",
   "metadata": {},
   "source": [
    "## Separating features and labels"
   ]
  },
  {
   "cell_type": "code",
   "execution_count": 14,
   "id": "a4877be1",
   "metadata": {},
   "outputs": [],
   "source": [
    "X = language_dataset['Text']\n",
    "y = language_dataset['language_encoded']"
   ]
  },
  {
   "cell_type": "markdown",
   "id": "ba087bc9",
   "metadata": {},
   "source": [
    "## Performing train test split"
   ]
  },
  {
   "cell_type": "code",
   "execution_count": 15,
   "id": "ee09a49c",
   "metadata": {},
   "outputs": [],
   "source": [
    "X_train, X_test, y_train, y_test = train_test_split(X, y, test_size=0.2, random_state=42)"
   ]
  },
  {
   "cell_type": "markdown",
   "id": "4d89c420",
   "metadata": {},
   "source": [
    "## Preprocessing the data"
   ]
  },
  {
   "cell_type": "code",
   "execution_count": 16,
   "id": "b12b6733",
   "metadata": {},
   "outputs": [],
   "source": [
    "y_train = to_categorical(y_train, num_classes=22)\n",
    "y_test = to_categorical(y_test, num_classes=22)"
   ]
  },
  {
   "cell_type": "code",
   "execution_count": 17,
   "id": "e980d171",
   "metadata": {},
   "outputs": [],
   "source": [
    "word_tokenizer = Tokenizer()"
   ]
  },
  {
   "cell_type": "code",
   "execution_count": 18,
   "id": "eca73709",
   "metadata": {},
   "outputs": [],
   "source": [
    "word_tokenizer.fit_on_texts(X_train)"
   ]
  },
  {
   "cell_type": "code",
   "execution_count": 19,
   "id": "9bebc7db",
   "metadata": {},
   "outputs": [],
   "source": [
    "X_train = word_tokenizer.texts_to_sequences(X_train)\n",
    "X_test = word_tokenizer.texts_to_sequences(X_test)"
   ]
  },
  {
   "cell_type": "code",
   "execution_count": 20,
   "id": "fb99280c",
   "metadata": {},
   "outputs": [],
   "source": [
    "vocab_length = len(word_tokenizer.word_index) + 1"
   ]
  },
  {
   "cell_type": "code",
   "execution_count": 21,
   "id": "4b1aa025",
   "metadata": {},
   "outputs": [],
   "source": [
    "maxlen = 100\n",
    "\n",
    "X_train = pad_sequences(X_train, padding='post', maxlen=maxlen)\n",
    "X_test = pad_sequences(X_test, padding='post', maxlen=maxlen)"
   ]
  },
  {
   "cell_type": "code",
   "execution_count": 22,
   "id": "e9080a4e",
   "metadata": {},
   "outputs": [],
   "source": [
    "embedding_dictionary = dict()\n",
    "\n",
    "glove_file = open('glove.6B.100d.txt', encoding='utf8')\n",
    "\n",
    "\n",
    "for line in glove_file:\n",
    "    records = line.split()\n",
    "    word = records[0]\n",
    "    corresponding_vector_of_the_word = np.asarray(records[1:], dtype='float32')\n",
    "    embedding_dictionary[word] = corresponding_vector_of_the_word\n",
    "\n",
    "glove_file.close()"
   ]
  },
  {
   "cell_type": "code",
   "execution_count": 23,
   "id": "26547df4",
   "metadata": {},
   "outputs": [],
   "source": [
    "embedding_matrix = np.zeros((vocab_length, 100))\n",
    "\n",
    "\n",
    "for word, index in word_tokenizer.word_index.items():\n",
    "    \n",
    "    getting_corresponding_word_from_embedding_vector = embedding_dictionary.get(word)\n",
    "    \n",
    "    if getting_corresponding_word_from_embedding_vector is not None:\n",
    "        \n",
    "        embedding_matrix[index] = getting_corresponding_word_from_embedding_vector"
   ]
  },
  {
   "cell_type": "code",
   "execution_count": 24,
   "id": "2f833cd3",
   "metadata": {},
   "outputs": [
    {
     "data": {
      "text/plain": [
       "(234753, 100)"
      ]
     },
     "execution_count": 24,
     "metadata": {},
     "output_type": "execute_result"
    }
   ],
   "source": [
    "embedding_matrix.shape"
   ]
  },
  {
   "cell_type": "markdown",
   "id": "7c79e297",
   "metadata": {},
   "source": [
    "## Creating the embedding layer"
   ]
  },
  {
   "cell_type": "code",
   "execution_count": 25,
   "id": "d4602a14",
   "metadata": {},
   "outputs": [],
   "source": [
    "embedding_layer = Embedding(vocab_length, 100, weights=[embedding_matrix], input_length=maxlen, trainable=False)"
   ]
  },
  {
   "cell_type": "markdown",
   "id": "cb866506",
   "metadata": {},
   "source": [
    "## Defining the early stop"
   ]
  },
  {
   "cell_type": "code",
   "execution_count": 26,
   "id": "e977cefd",
   "metadata": {},
   "outputs": [],
   "source": [
    "early_stop_loss = EarlyStopping(monitor='loss', patience=2)\n",
    "early_stop_val_loss = EarlyStopping(monitor='val_loss', patience=2)"
   ]
  },
  {
   "cell_type": "markdown",
   "id": "d9c41b4b",
   "metadata": {},
   "source": [
    "## Creating and training the model"
   ]
  },
  {
   "cell_type": "code",
   "execution_count": 27,
   "id": "508779b3",
   "metadata": {},
   "outputs": [],
   "source": [
    "model = Sequential()"
   ]
  },
  {
   "cell_type": "code",
   "execution_count": 28,
   "id": "6759b768",
   "metadata": {},
   "outputs": [],
   "source": [
    "model.add(embedding_layer)\n",
    "\n",
    "model.add(Bidirectional(GRU(128, activation='tanh')))\n",
    "\n",
    "model.add(Dense(128, activation='tanh'))\n",
    "\n",
    "model.add(Dense(64, activation='tanh'))\n",
    "\n",
    "model.add(Dense(32, activation='tanh'))\n",
    "\n",
    "model.add(Dense(22, activation='softmax'))"
   ]
  },
  {
   "cell_type": "code",
   "execution_count": 29,
   "id": "6309c28d",
   "metadata": {},
   "outputs": [
    {
     "name": "stdout",
     "output_type": "stream",
     "text": [
      "Model: \"sequential\"\n",
      "_________________________________________________________________\n",
      " Layer (type)                Output Shape              Param #   \n",
      "=================================================================\n",
      " embedding (Embedding)       (None, 100, 100)          23475300  \n",
      "                                                                 \n",
      " bidirectional (Bidirectiona  (None, 256)              176640    \n",
      " l)                                                              \n",
      "                                                                 \n",
      " dense (Dense)               (None, 128)               32896     \n",
      "                                                                 \n",
      " dense_1 (Dense)             (None, 64)                8256      \n",
      "                                                                 \n",
      " dense_2 (Dense)             (None, 32)                2080      \n",
      "                                                                 \n",
      " dense_3 (Dense)             (None, 22)                726       \n",
      "                                                                 \n",
      "=================================================================\n",
      "Total params: 23,695,898\n",
      "Trainable params: 220,598\n",
      "Non-trainable params: 23,475,300\n",
      "_________________________________________________________________\n"
     ]
    }
   ],
   "source": [
    "model.summary()"
   ]
  },
  {
   "cell_type": "code",
   "execution_count": 30,
   "id": "cd538eda",
   "metadata": {},
   "outputs": [],
   "source": [
    "model.compile(optimizer=Adam(learning_rate=2e-5), loss='categorical_crossentropy', metrics=['accuracy'])"
   ]
  },
  {
   "cell_type": "code",
   "execution_count": 31,
   "id": "eee1d166",
   "metadata": {},
   "outputs": [
    {
     "name": "stdout",
     "output_type": "stream",
     "text": [
      "Epoch 1/100\n",
      "274/274 [==============================] - 24s 45ms/step - loss: 3.0021 - accuracy: 0.1312 - val_loss: 2.8913 - val_accuracy: 0.1894\n",
      "Epoch 2/100\n",
      "274/274 [==============================] - 12s 43ms/step - loss: 2.8034 - accuracy: 0.2288 - val_loss: 2.7086 - val_accuracy: 0.2450\n",
      "Epoch 3/100\n",
      "274/274 [==============================] - 12s 43ms/step - loss: 2.6152 - accuracy: 0.2478 - val_loss: 2.5348 - val_accuracy: 0.2459\n",
      "Epoch 4/100\n",
      "274/274 [==============================] - 12s 43ms/step - loss: 2.4602 - accuracy: 0.2606 - val_loss: 2.4032 - val_accuracy: 0.2816\n",
      "Epoch 5/100\n",
      "274/274 [==============================] - 12s 44ms/step - loss: 2.3453 - accuracy: 0.3018 - val_loss: 2.2845 - val_accuracy: 0.3179\n",
      "Epoch 6/100\n",
      "274/274 [==============================] - 12s 43ms/step - loss: 2.2269 - accuracy: 0.3428 - val_loss: 2.1553 - val_accuracy: 0.3575\n",
      "Epoch 7/100\n",
      "274/274 [==============================] - 12s 44ms/step - loss: 2.0880 - accuracy: 0.3825 - val_loss: 2.0023 - val_accuracy: 0.3984\n",
      "Epoch 8/100\n",
      "274/274 [==============================] - 11s 42ms/step - loss: 1.9151 - accuracy: 0.4307 - val_loss: 1.8273 - val_accuracy: 0.4527\n",
      "Epoch 9/100\n",
      "274/274 [==============================] - 12s 43ms/step - loss: 1.7534 - accuracy: 0.4816 - val_loss: 1.6907 - val_accuracy: 0.4911\n",
      "Epoch 10/100\n",
      "274/274 [==============================] - 11s 41ms/step - loss: 1.6358 - accuracy: 0.5258 - val_loss: 1.5904 - val_accuracy: 0.5469\n",
      "Epoch 11/100\n",
      "274/274 [==============================] - 12s 43ms/step - loss: 1.5433 - accuracy: 0.5599 - val_loss: 1.5008 - val_accuracy: 0.5821\n",
      "Epoch 12/100\n",
      "274/274 [==============================] - 12s 43ms/step - loss: 1.4612 - accuracy: 0.5964 - val_loss: 1.4244 - val_accuracy: 0.6045\n",
      "Epoch 13/100\n",
      "274/274 [==============================] - 12s 43ms/step - loss: 1.3871 - accuracy: 0.6257 - val_loss: 1.3529 - val_accuracy: 0.6322\n",
      "Epoch 14/100\n",
      "274/274 [==============================] - 12s 43ms/step - loss: 1.3215 - accuracy: 0.6456 - val_loss: 1.2909 - val_accuracy: 0.6581\n",
      "Epoch 15/100\n",
      "274/274 [==============================] - 12s 43ms/step - loss: 1.2633 - accuracy: 0.6574 - val_loss: 1.2382 - val_accuracy: 0.6606\n",
      "Epoch 16/100\n",
      "274/274 [==============================] - 11s 41ms/step - loss: 1.2119 - accuracy: 0.6675 - val_loss: 1.1864 - val_accuracy: 0.6727\n",
      "Epoch 17/100\n",
      "274/274 [==============================] - 12s 43ms/step - loss: 1.1664 - accuracy: 0.6769 - val_loss: 1.1465 - val_accuracy: 0.6866\n",
      "Epoch 18/100\n",
      "274/274 [==============================] - 12s 42ms/step - loss: 1.1263 - accuracy: 0.6794 - val_loss: 1.1063 - val_accuracy: 0.6825\n",
      "Epoch 19/100\n",
      "274/274 [==============================] - 12s 43ms/step - loss: 1.0904 - accuracy: 0.6849 - val_loss: 1.0757 - val_accuracy: 0.6914\n",
      "Epoch 20/100\n",
      "274/274 [==============================] - 12s 43ms/step - loss: 1.0596 - accuracy: 0.6897 - val_loss: 1.0480 - val_accuracy: 0.6937\n",
      "Epoch 21/100\n",
      "274/274 [==============================] - 12s 43ms/step - loss: 1.0320 - accuracy: 0.6915 - val_loss: 1.0188 - val_accuracy: 0.6953\n",
      "Epoch 22/100\n",
      "274/274 [==============================] - 12s 43ms/step - loss: 1.0080 - accuracy: 0.6931 - val_loss: 1.0057 - val_accuracy: 0.6940\n",
      "Epoch 23/100\n",
      "274/274 [==============================] - 12s 44ms/step - loss: 0.9858 - accuracy: 0.6991 - val_loss: 0.9759 - val_accuracy: 0.7031\n",
      "Epoch 24/100\n",
      "274/274 [==============================] - 12s 43ms/step - loss: 0.9673 - accuracy: 0.6975 - val_loss: 0.9639 - val_accuracy: 0.6972\n",
      "Epoch 25/100\n",
      "274/274 [==============================] - 12s 43ms/step - loss: 0.9507 - accuracy: 0.7001 - val_loss: 0.9430 - val_accuracy: 0.7070\n",
      "Epoch 26/100\n",
      "274/274 [==============================] - 12s 43ms/step - loss: 0.9348 - accuracy: 0.7021 - val_loss: 0.9311 - val_accuracy: 0.6976\n",
      "Epoch 27/100\n",
      "274/274 [==============================] - 12s 44ms/step - loss: 0.9197 - accuracy: 0.7026 - val_loss: 0.9168 - val_accuracy: 0.7063\n",
      "Epoch 28/100\n",
      "274/274 [==============================] - 12s 45ms/step - loss: 0.9071 - accuracy: 0.7036 - val_loss: 0.9092 - val_accuracy: 0.7022\n",
      "Epoch 29/100\n",
      "274/274 [==============================] - 13s 47ms/step - loss: 0.8956 - accuracy: 0.7060 - val_loss: 0.8947 - val_accuracy: 0.7079\n",
      "Epoch 30/100\n",
      "274/274 [==============================] - 12s 46ms/step - loss: 0.8845 - accuracy: 0.7084 - val_loss: 0.8854 - val_accuracy: 0.7116\n",
      "Epoch 31/100\n",
      "274/274 [==============================] - 13s 48ms/step - loss: 0.8743 - accuracy: 0.7103 - val_loss: 0.8780 - val_accuracy: 0.7093\n",
      "Epoch 32/100\n",
      "274/274 [==============================] - 13s 47ms/step - loss: 0.8654 - accuracy: 0.7102 - val_loss: 0.8734 - val_accuracy: 0.7056\n",
      "Epoch 33/100\n",
      "274/274 [==============================] - 13s 48ms/step - loss: 0.8562 - accuracy: 0.7094 - val_loss: 0.8606 - val_accuracy: 0.7125\n",
      "Epoch 34/100\n",
      "274/274 [==============================] - 13s 47ms/step - loss: 0.8488 - accuracy: 0.7105 - val_loss: 0.8531 - val_accuracy: 0.7134\n",
      "Epoch 35/100\n",
      "274/274 [==============================] - 13s 48ms/step - loss: 0.8417 - accuracy: 0.7085 - val_loss: 0.8498 - val_accuracy: 0.7084\n",
      "Epoch 36/100\n",
      "274/274 [==============================] - 13s 48ms/step - loss: 0.8338 - accuracy: 0.7108 - val_loss: 0.8426 - val_accuracy: 0.7150\n",
      "Epoch 37/100\n",
      "274/274 [==============================] - 15s 54ms/step - loss: 0.8280 - accuracy: 0.7143 - val_loss: 0.8351 - val_accuracy: 0.7155\n",
      "Epoch 38/100\n",
      "274/274 [==============================] - 13s 48ms/step - loss: 0.8211 - accuracy: 0.7101 - val_loss: 0.8366 - val_accuracy: 0.7100\n",
      "Epoch 39/100\n",
      "274/274 [==============================] - 13s 48ms/step - loss: 0.8152 - accuracy: 0.7143 - val_loss: 0.8286 - val_accuracy: 0.7120\n",
      "Epoch 40/100\n",
      "274/274 [==============================] - 13s 47ms/step - loss: 0.8103 - accuracy: 0.7122 - val_loss: 0.8205 - val_accuracy: 0.7175\n",
      "Epoch 41/100\n",
      "274/274 [==============================] - 12s 45ms/step - loss: 0.8047 - accuracy: 0.7134 - val_loss: 0.8173 - val_accuracy: 0.7132\n",
      "Epoch 42/100\n",
      "274/274 [==============================] - 12s 45ms/step - loss: 0.8002 - accuracy: 0.7156 - val_loss: 0.8112 - val_accuracy: 0.7173\n",
      "Epoch 43/100\n",
      "274/274 [==============================] - 14s 51ms/step - loss: 0.7956 - accuracy: 0.7159 - val_loss: 0.8087 - val_accuracy: 0.7232\n",
      "Epoch 44/100\n",
      "274/274 [==============================] - 15s 54ms/step - loss: 0.7910 - accuracy: 0.7165 - val_loss: 0.8082 - val_accuracy: 0.7139\n",
      "Epoch 45/100\n",
      "274/274 [==============================] - 15s 53ms/step - loss: 0.7861 - accuracy: 0.7154 - val_loss: 0.8051 - val_accuracy: 0.7136\n",
      "Epoch 46/100\n",
      "274/274 [==============================] - 15s 54ms/step - loss: 0.7825 - accuracy: 0.7192 - val_loss: 0.8022 - val_accuracy: 0.7198\n",
      "Epoch 47/100\n",
      "274/274 [==============================] - 15s 56ms/step - loss: 0.7787 - accuracy: 0.7191 - val_loss: 0.7951 - val_accuracy: 0.7226\n",
      "Epoch 48/100\n",
      "274/274 [==============================] - 14s 50ms/step - loss: 0.7747 - accuracy: 0.7176 - val_loss: 0.7967 - val_accuracy: 0.7157\n",
      "Epoch 49/100\n",
      "274/274 [==============================] - 16s 57ms/step - loss: 0.7711 - accuracy: 0.7189 - val_loss: 0.7896 - val_accuracy: 0.7230\n",
      "Epoch 50/100\n",
      "274/274 [==============================] - 16s 57ms/step - loss: 0.7680 - accuracy: 0.7201 - val_loss: 0.7901 - val_accuracy: 0.7232\n",
      "Epoch 51/100\n",
      "274/274 [==============================] - 16s 58ms/step - loss: 0.7645 - accuracy: 0.7199 - val_loss: 0.7846 - val_accuracy: 0.7248\n",
      "Epoch 52/100\n",
      "274/274 [==============================] - 16s 57ms/step - loss: 0.7620 - accuracy: 0.7197 - val_loss: 0.7860 - val_accuracy: 0.7223\n",
      "Epoch 53/100\n",
      "274/274 [==============================] - 14s 51ms/step - loss: 0.7576 - accuracy: 0.7196 - val_loss: 0.7787 - val_accuracy: 0.7248\n",
      "Epoch 54/100\n",
      "274/274 [==============================] - 12s 45ms/step - loss: 0.7559 - accuracy: 0.7194 - val_loss: 0.7780 - val_accuracy: 0.7184\n",
      "Epoch 55/100\n",
      "274/274 [==============================] - 14s 50ms/step - loss: 0.7528 - accuracy: 0.7225 - val_loss: 0.7741 - val_accuracy: 0.7267\n",
      "Epoch 56/100\n",
      "274/274 [==============================] - 15s 53ms/step - loss: 0.7493 - accuracy: 0.7205 - val_loss: 0.7743 - val_accuracy: 0.7235\n",
      "Epoch 57/100\n"
     ]
    },
    {
     "name": "stdout",
     "output_type": "stream",
     "text": [
      "274/274 [==============================] - 14s 52ms/step - loss: 0.7467 - accuracy: 0.7228 - val_loss: 0.7715 - val_accuracy: 0.7253\n",
      "Epoch 58/100\n",
      "274/274 [==============================] - 14s 52ms/step - loss: 0.7441 - accuracy: 0.7233 - val_loss: 0.7704 - val_accuracy: 0.7276\n",
      "Epoch 59/100\n",
      "274/274 [==============================] - 15s 53ms/step - loss: 0.7415 - accuracy: 0.7252 - val_loss: 0.7692 - val_accuracy: 0.7242\n",
      "Epoch 60/100\n",
      "274/274 [==============================] - 15s 54ms/step - loss: 0.7388 - accuracy: 0.7267 - val_loss: 0.7666 - val_accuracy: 0.7219\n",
      "Epoch 61/100\n",
      "274/274 [==============================] - 15s 54ms/step - loss: 0.7363 - accuracy: 0.7237 - val_loss: 0.7667 - val_accuracy: 0.7283\n",
      "Epoch 62/100\n",
      "274/274 [==============================] - 14s 52ms/step - loss: 0.7346 - accuracy: 0.7255 - val_loss: 0.7653 - val_accuracy: 0.7251\n",
      "Epoch 63/100\n",
      "274/274 [==============================] - 14s 51ms/step - loss: 0.7321 - accuracy: 0.7279 - val_loss: 0.7632 - val_accuracy: 0.7287\n",
      "Epoch 64/100\n",
      "274/274 [==============================] - 14s 50ms/step - loss: 0.7300 - accuracy: 0.7284 - val_loss: 0.7625 - val_accuracy: 0.7253\n",
      "Epoch 65/100\n",
      "274/274 [==============================] - 13s 49ms/step - loss: 0.7274 - accuracy: 0.7299 - val_loss: 0.7602 - val_accuracy: 0.7285\n",
      "Epoch 66/100\n",
      "274/274 [==============================] - 13s 47ms/step - loss: 0.7261 - accuracy: 0.7292 - val_loss: 0.7614 - val_accuracy: 0.7223\n",
      "Epoch 67/100\n",
      "274/274 [==============================] - 12s 44ms/step - loss: 0.7240 - accuracy: 0.7289 - val_loss: 0.7606 - val_accuracy: 0.7269\n"
     ]
    },
    {
     "data": {
      "text/plain": [
       "<keras.callbacks.History at 0x224cf95dfa0>"
      ]
     },
     "execution_count": 31,
     "metadata": {},
     "output_type": "execute_result"
    }
   ],
   "source": [
    "model.fit(x=X_train, y=y_train, validation_data=[X_test, y_test], batch_size=64, epochs=100, callbacks=[early_stop_loss, early_stop_val_loss])"
   ]
  },
  {
   "cell_type": "markdown",
   "id": "77a138a4",
   "metadata": {},
   "source": [
    "## Plotting loss VS val_loss and accuracy VS val_accuracy graph"
   ]
  },
  {
   "cell_type": "code",
   "execution_count": 32,
   "id": "dffa08c7",
   "metadata": {},
   "outputs": [],
   "source": [
    "history = pd.DataFrame(model.history.history)"
   ]
  },
  {
   "cell_type": "code",
   "execution_count": 33,
   "id": "2f717611",
   "metadata": {},
   "outputs": [
    {
     "data": {
      "text/plain": [
       "<Axes: >"
      ]
     },
     "execution_count": 33,
     "metadata": {},
     "output_type": "execute_result"
    },
    {
     "data": {
      "image/png": "[encoded data removed]",
      "text/plain": [
       "<Figure size 640x480 with 1 Axes>"
      ]
     },
     "metadata": {},
     "output_type": "display_data"
    }
   ],
   "source": [
    "history[['loss', 'val_loss']].plot()"
   ]
  },
  {
   "cell_type": "code",
   "execution_count": 34,
   "id": "d6eb0f2a",
   "metadata": {},
   "outputs": [
    {
     "data": {
      "text/plain": [
       "<Axes: >"
      ]
     },
     "execution_count": 34,
     "metadata": {},
     "output_type": "execute_result"
    },
    {
     "data": {
      "image/png": "[encoded data removed]",
      "text/plain": [
       "<Figure size 640x480 with 1 Axes>"
      ]
     },
     "metadata": {},
     "output_type": "display_data"
    }
   ],
   "source": [
    "history[['accuracy', 'val_accuracy']].plot()"
   ]
  },
  {
   "cell_type": "markdown",
   "id": "6c64dae2",
   "metadata": {},
   "source": [
    "## Evaluating the model on training and testing data"
   ]
  },
  {
   "cell_type": "code",
   "execution_count": 35,
   "id": "b9b50ac4",
   "metadata": {},
   "outputs": [
    {
     "name": "stdout",
     "output_type": "stream",
     "text": [
      "547/547 [==============================] - 9s 17ms/step - loss: 0.7268 - accuracy: 0.7289\n"
     ]
    },
    {
     "data": {
      "text/plain": [
       "0.7289415001869202"
      ]
     },
     "execution_count": 35,
     "metadata": {},
     "output_type": "execute_result"
    }
   ],
   "source": [
    "model.evaluate(X_train, y_train)[1]"
   ]
  },
  {
   "cell_type": "code",
   "execution_count": 36,
   "id": "14f744e9",
   "metadata": {},
   "outputs": [
    {
     "name": "stdout",
     "output_type": "stream",
     "text": [
      "137/137 [==============================] - 2s 17ms/step - loss: 0.7606 - accuracy: 0.7269\n"
     ]
    },
    {
     "data": {
      "text/plain": [
       "0.7268984317779541"
      ]
     },
     "execution_count": 36,
     "metadata": {},
     "output_type": "execute_result"
    }
   ],
   "source": [
    "model.evaluate(X_test, y_test)[1]"
   ]
  },
  {
   "cell_type": "markdown",
   "id": "bdc4ddfd",
   "metadata": {},
   "source": [
    "## Performing prediction on sample data"
   ]
  },
  {
   "cell_type": "code",
   "execution_count": 37,
   "id": "8084c7c2",
   "metadata": {},
   "outputs": [],
   "source": [
    "sample_data = \"klement gottwaldi surnukeha palsameeriti ning paigutati mausoleumi surnukeha oli aga liiga hilja ja oskamatult palsameeritud ning hakkas ilmutama lagunemise tundemÃ¤rke  aastal viidi ta surnukeha mausoleumist Ã¤ra ja kremeeriti zlÃ­ni linn kandis aastatel â€“ nime gottwaldov ukrainas harkivi oblastis kandis zmiivi linn aastatel â€“ nime gotvald\""
   ]
  },
  {
   "cell_type": "code",
   "execution_count": 38,
   "id": "0f875a98",
   "metadata": {},
   "outputs": [],
   "source": [
    "sample_data_sequence = word_tokenizer.texts_to_sequences([sample_data])"
   ]
  },
  {
   "cell_type": "code",
   "execution_count": 39,
   "id": "c6ee133a",
   "metadata": {},
   "outputs": [],
   "source": [
    "sample_data_padded = pad_sequences(sample_data_sequence, padding='post', maxlen=100)"
   ]
  },
  {
   "cell_type": "code",
   "execution_count": 40,
   "id": "fc715260",
   "metadata": {},
   "outputs": [
    {
     "name": "stdout",
     "output_type": "stream",
     "text": [
      "1/1 [==============================] - 1s 920ms/step\n"
     ]
    }
   ],
   "source": [
    "prediction = model.predict(sample_data_padded)"
   ]
  },
  {
   "cell_type": "code",
   "execution_count": 41,
   "id": "833da391",
   "metadata": {},
   "outputs": [],
   "source": [
    "predicted_class = np.argmax(prediction)"
   ]
  },
  {
   "cell_type": "code",
   "execution_count": 42,
   "id": "f31f370f",
   "metadata": {},
   "outputs": [],
   "source": [
    "class_names = ['Arabic', 'Chinese', 'Dutch', 'English', 'Estonian', 'French', 'Hindi', 'Indonesian', 'Japanese', 'Korean', 'Latin', 'Persian', 'Portugese', 'Pushto', 'Romanian', 'Russian', 'Spanish', 'Swedish', 'Tamil', 'Thai', 'Turkish', 'Urdu']"
   ]
  },
  {
   "cell_type": "code",
   "execution_count": 43,
   "id": "1487cb5b",
   "metadata": {},
   "outputs": [],
   "source": [
    "pred_final_result = class_names[predicted_class]"
   ]
  },
  {
   "cell_type": "code",
   "execution_count": 44,
   "id": "edde073d",
   "metadata": {},
   "outputs": [
    {
     "data": {
      "text/plain": [
       "'Estonian'"
      ]
     },
     "execution_count": 44,
     "metadata": {},
     "output_type": "execute_result"
    }
   ],
   "source": [
    "pred_final_result"
   ]
  },
  {
   "cell_type": "markdown",
   "id": "3b76a027",
   "metadata": {},
   "source": [
    "## Save the model"
   ]
  },
  {
   "cell_type": "code",
   "execution_count": 45,
   "id": "c7d1474f",
   "metadata": {},
   "outputs": [],
   "source": [
    "model.save('bidirectionalgru_model.h5')"
   ]
  }
 ],
 "metadata": {
  "kernelspec": {
   "display_name": "Python 3 (ipykernel)",
   "language": "python",
   "name": "python3"
  },
  "language_info": {
   "codemirror_mode": {
    "name": "ipython",
    "version": 3
   },
   "file_extension": ".py",
   "mimetype": "text/x-python",
   "name": "python",
   "nbconvert_exporter": "python",
   "pygments_lexer": "ipython3",
   "version": "3.9.7"
  }
 },
 "nbformat": 4,
 "nbformat_minor": 5
}
