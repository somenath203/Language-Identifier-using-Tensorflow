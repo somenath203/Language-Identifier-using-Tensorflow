{
 "cells": [
  {
   "cell_type": "markdown",
   "id": "e60ffaeb",
   "metadata": {},
   "source": [
    "## Importing all the necessary dependencies"
   ]
  },
  {
   "cell_type": "code",
   "execution_count": 1,
   "id": "5abd1c9b",
   "metadata": {},
   "outputs": [],
   "source": [
    "import numpy as np\n",
    "import pandas as pd \n",
    "from sklearn.model_selection import train_test_split \n",
    "from sklearn.preprocessing import LabelEncoder\n",
    "from tensorflow.keras.preprocessing.text import one_hot, Tokenizer\n",
    "from tensorflow.keras.preprocessing.sequence import pad_sequences\n",
    "from tensorflow.keras.utils import to_categorical\n",
    "from tensorflow.keras.callbacks import EarlyStopping\n",
    "from tensorflow.keras.models import Sequential\n",
    "from tensorflow.keras.layers import Embedding, Dense, SimpleRNN, Bidirectional\n",
    "from tensorflow.keras.optimizers import Adam"
   ]
  },
  {
   "cell_type": "markdown",
   "id": "8c152a7d",
   "metadata": {},
   "source": [
    "## Loading the dataset"
   ]
  },
  {
   "cell_type": "code",
   "execution_count": 2,
   "id": "fbf318d3",
   "metadata": {},
   "outputs": [],
   "source": [
    "language_dataset = pd.read_csv('dataset.csv')"
   ]
  },
  {
   "cell_type": "code",
   "execution_count": 3,
   "id": "3650b2f3",
   "metadata": {},
   "outputs": [
    {
     "data": {
      "text/html": [
       "<div>\n",
       "<style scoped>\n",
       "    .dataframe tbody tr th:only-of-type {\n",
       "        vertical-align: middle;\n",
       "    }\n",
       "\n",
       "    .dataframe tbody tr th {\n",
       "        vertical-align: top;\n",
       "    }\n",
       "\n",
       "    .dataframe thead th {\n",
       "        text-align: right;\n",
       "    }\n",
       "</style>\n",
       "<table border=\"1\" class=\"dataframe\">\n",
       "  <thead>\n",
       "    <tr style=\"text-align: right;\">\n",
       "      <th></th>\n",
       "      <th>Text</th>\n",
       "      <th>language</th>\n",
       "    </tr>\n",
       "  </thead>\n",
       "  <tbody>\n",
       "    <tr>\n",
       "      <th>12238</th>\n",
       "      <td>ポトツキはクシェショヴィツェ、スタシュフ、ミェンジェフフ（mędrzechów）、ビャワ・ツ...</td>\n",
       "      <td>Japanese</td>\n",
       "    </tr>\n",
       "    <tr>\n",
       "      <th>20087</th>\n",
       "      <td>हिन्दू धर्म दर्शन अध्यात्म और साधना के अंतर्गत...</td>\n",
       "      <td>Hindi</td>\n",
       "    </tr>\n",
       "    <tr>\n",
       "      <th>11453</th>\n",
       "      <td>leopold jh wij avondkinderen enschede paul sni...</td>\n",
       "      <td>Dutch</td>\n",
       "    </tr>\n",
       "    <tr>\n",
       "      <th>4748</th>\n",
       "      <td>la voie ferrée paris-aulnay-sous-bois-aéroport...</td>\n",
       "      <td>French</td>\n",
       "    </tr>\n",
       "    <tr>\n",
       "      <th>9606</th>\n",
       "      <td>அனந்த் ராம் வர்மா இந்திய தேசிய காங்கிரஸ்  அப்...</td>\n",
       "      <td>Tamil</td>\n",
       "    </tr>\n",
       "  </tbody>\n",
       "</table>\n",
       "</div>"
      ],
      "text/plain": [
       "                                                    Text  language\n",
       "12238  ポトツキはクシェショヴィツェ、スタシュフ、ミェンジェフフ（mędrzechów）、ビャワ・ツ...  Japanese\n",
       "20087  हिन्दू धर्म दर्शन अध्यात्म और साधना के अंतर्गत...     Hindi\n",
       "11453  leopold jh wij avondkinderen enschede paul sni...     Dutch\n",
       "4748   la voie ferrée paris-aulnay-sous-bois-aéroport...    French\n",
       "9606    அனந்த் ராம் வர்மா இந்திய தேசிய காங்கிரஸ்  அப்...     Tamil"
      ]
     },
     "execution_count": 3,
     "metadata": {},
     "output_type": "execute_result"
    }
   ],
   "source": [
    "language_dataset.sample(5)"
   ]
  },
  {
   "cell_type": "code",
   "execution_count": 4,
   "id": "b0a8e404",
   "metadata": {},
   "outputs": [
    {
     "data": {
      "text/plain": [
       "Text        0\n",
       "language    0\n",
       "dtype: int64"
      ]
     },
     "execution_count": 4,
     "metadata": {},
     "output_type": "execute_result"
    }
   ],
   "source": [
    "language_dataset.isnull().sum()"
   ]
  },
  {
   "cell_type": "code",
   "execution_count": 5,
   "id": "f0838060",
   "metadata": {},
   "outputs": [
    {
     "name": "stdout",
     "output_type": "stream",
     "text": [
      "<class 'pandas.core.frame.DataFrame'>\n",
      "RangeIndex: 22000 entries, 0 to 21999\n",
      "Data columns (total 2 columns):\n",
      " #   Column    Non-Null Count  Dtype \n",
      "---  ------    --------------  ----- \n",
      " 0   Text      22000 non-null  object\n",
      " 1   language  22000 non-null  object\n",
      "dtypes: object(2)\n",
      "memory usage: 343.9+ KB\n"
     ]
    }
   ],
   "source": [
    "language_dataset.info()"
   ]
  },
  {
   "cell_type": "code",
   "execution_count": 6,
   "id": "17b8dbf9",
   "metadata": {},
   "outputs": [
    {
     "data": {
      "text/plain": [
       "language\n",
       "Estonian      1000\n",
       "Swedish       1000\n",
       "English       1000\n",
       "Russian       1000\n",
       "Romanian      1000\n",
       "Persian       1000\n",
       "Pushto        1000\n",
       "Spanish       1000\n",
       "Hindi         1000\n",
       "Korean        1000\n",
       "Chinese       1000\n",
       "French        1000\n",
       "Portugese     1000\n",
       "Indonesian    1000\n",
       "Urdu          1000\n",
       "Latin         1000\n",
       "Turkish       1000\n",
       "Japanese      1000\n",
       "Dutch         1000\n",
       "Tamil         1000\n",
       "Thai          1000\n",
       "Arabic        1000\n",
       "Name: count, dtype: int64"
      ]
     },
     "execution_count": 6,
     "metadata": {},
     "output_type": "execute_result"
    }
   ],
   "source": [
    "language_dataset['language'].value_counts()"
   ]
  },
  {
   "cell_type": "markdown",
   "id": "d22582f8",
   "metadata": {},
   "source": [
    "## Checking for duplicate values in the dataset"
   ]
  },
  {
   "cell_type": "code",
   "execution_count": 7,
   "id": "6081a261",
   "metadata": {},
   "outputs": [
    {
     "data": {
      "text/plain": [
       "141"
      ]
     },
     "execution_count": 7,
     "metadata": {},
     "output_type": "execute_result"
    }
   ],
   "source": [
    "language_dataset.duplicated().sum()"
   ]
  },
  {
   "cell_type": "markdown",
   "id": "d68e6eda",
   "metadata": {},
   "source": [
    "## Dropping the duplicate values from the dataset"
   ]
  },
  {
   "cell_type": "code",
   "execution_count": 8,
   "id": "4458d52b",
   "metadata": {},
   "outputs": [],
   "source": [
    "language_dataset.drop_duplicates(inplace=True)"
   ]
  },
  {
   "cell_type": "markdown",
   "id": "43efa1c0",
   "metadata": {},
   "source": [
    "## Confirming whether the duplicate values are deleted from the dataset or not"
   ]
  },
  {
   "cell_type": "code",
   "execution_count": 9,
   "id": "fb57407f",
   "metadata": {},
   "outputs": [
    {
     "data": {
      "text/plain": [
       "0"
      ]
     },
     "execution_count": 9,
     "metadata": {},
     "output_type": "execute_result"
    }
   ],
   "source": [
    "language_dataset.duplicated().sum()"
   ]
  },
  {
   "cell_type": "markdown",
   "id": "5790ade8",
   "metadata": {},
   "source": [
    "## Encoding the labels"
   ]
  },
  {
   "cell_type": "code",
   "execution_count": 10,
   "id": "6b596e48",
   "metadata": {},
   "outputs": [],
   "source": [
    "encoder = LabelEncoder()\n",
    "\n",
    "language_dataset['language_encoded'] = encoder.fit_transform(language_dataset['language'])"
   ]
  },
  {
   "cell_type": "code",
   "execution_count": 11,
   "id": "bc782459",
   "metadata": {},
   "outputs": [
    {
     "data": {
      "text/html": [
       "<div>\n",
       "<style scoped>\n",
       "    .dataframe tbody tr th:only-of-type {\n",
       "        vertical-align: middle;\n",
       "    }\n",
       "\n",
       "    .dataframe tbody tr th {\n",
       "        vertical-align: top;\n",
       "    }\n",
       "\n",
       "    .dataframe thead th {\n",
       "        text-align: right;\n",
       "    }\n",
       "</style>\n",
       "<table border=\"1\" class=\"dataframe\">\n",
       "  <thead>\n",
       "    <tr style=\"text-align: right;\">\n",
       "      <th></th>\n",
       "      <th>Text</th>\n",
       "      <th>language</th>\n",
       "      <th>language_encoded</th>\n",
       "    </tr>\n",
       "  </thead>\n",
       "  <tbody>\n",
       "    <tr>\n",
       "      <th>5576</th>\n",
       "      <td>butsuen olim designationibus  wh et  hx agnit...</td>\n",
       "      <td>Latin</td>\n",
       "      <td>10</td>\n",
       "    </tr>\n",
       "    <tr>\n",
       "      <th>5596</th>\n",
       "      <td>abraham philip miller surnommé corky et né le ...</td>\n",
       "      <td>French</td>\n",
       "      <td>5</td>\n",
       "    </tr>\n",
       "    <tr>\n",
       "      <th>4775</th>\n",
       "      <td>após a implantação da república em portugal o ...</td>\n",
       "      <td>Portugese</td>\n",
       "      <td>12</td>\n",
       "    </tr>\n",
       "    <tr>\n",
       "      <th>5846</th>\n",
       "      <td>نیویارک کی سرحد دو عظیم جھیلیں ایری اور اونٹار...</td>\n",
       "      <td>Urdu</td>\n",
       "      <td>21</td>\n",
       "    </tr>\n",
       "    <tr>\n",
       "      <th>208</th>\n",
       "      <td>andrew johnston speelde goed genoeg om aan de ...</td>\n",
       "      <td>Dutch</td>\n",
       "      <td>2</td>\n",
       "    </tr>\n",
       "  </tbody>\n",
       "</table>\n",
       "</div>"
      ],
      "text/plain": [
       "                                                   Text   language  \\\n",
       "5576   butsuen olim designationibus  wh et  hx agnit...      Latin   \n",
       "5596  abraham philip miller surnommé corky et né le ...     French   \n",
       "4775  após a implantação da república em portugal o ...  Portugese   \n",
       "5846  نیویارک کی سرحد دو عظیم جھیلیں ایری اور اونٹار...       Urdu   \n",
       "208   andrew johnston speelde goed genoeg om aan de ...      Dutch   \n",
       "\n",
       "      language_encoded  \n",
       "5576                10  \n",
       "5596                 5  \n",
       "4775                12  \n",
       "5846                21  \n",
       "208                  2  "
      ]
     },
     "execution_count": 11,
     "metadata": {},
     "output_type": "execute_result"
    }
   ],
   "source": [
    "language_dataset.sample(5)"
   ]
  },
  {
   "cell_type": "markdown",
   "id": "d700fc81",
   "metadata": {},
   "source": [
    "## Identifying which integer is assigned to which label"
   ]
  },
  {
   "cell_type": "code",
   "execution_count": 12,
   "id": "f3e07486",
   "metadata": {},
   "outputs": [],
   "source": [
    "language_label_identify_unique = language_dataset[['language', 'language_encoded']].drop_duplicates().sort_values(by='language_encoded')"
   ]
  },
  {
   "cell_type": "code",
   "execution_count": 13,
   "id": "7ba7b7d3",
   "metadata": {},
   "outputs": [
    {
     "data": {
      "text/html": [
       "<div>\n",
       "<style scoped>\n",
       "    .dataframe tbody tr th:only-of-type {\n",
       "        vertical-align: middle;\n",
       "    }\n",
       "\n",
       "    .dataframe tbody tr th {\n",
       "        vertical-align: top;\n",
       "    }\n",
       "\n",
       "    .dataframe thead th {\n",
       "        text-align: right;\n",
       "    }\n",
       "</style>\n",
       "<table border=\"1\" class=\"dataframe\">\n",
       "  <thead>\n",
       "    <tr style=\"text-align: right;\">\n",
       "      <th></th>\n",
       "      <th>language</th>\n",
       "      <th>language_encoded</th>\n",
       "    </tr>\n",
       "  </thead>\n",
       "  <tbody>\n",
       "    <tr>\n",
       "      <th>46</th>\n",
       "      <td>Arabic</td>\n",
       "      <td>0</td>\n",
       "    </tr>\n",
       "    <tr>\n",
       "      <th>13</th>\n",
       "      <td>Chinese</td>\n",
       "      <td>1</td>\n",
       "    </tr>\n",
       "    <tr>\n",
       "      <th>4</th>\n",
       "      <td>Dutch</td>\n",
       "      <td>2</td>\n",
       "    </tr>\n",
       "    <tr>\n",
       "      <th>37</th>\n",
       "      <td>English</td>\n",
       "      <td>3</td>\n",
       "    </tr>\n",
       "    <tr>\n",
       "      <th>0</th>\n",
       "      <td>Estonian</td>\n",
       "      <td>4</td>\n",
       "    </tr>\n",
       "    <tr>\n",
       "      <th>12</th>\n",
       "      <td>French</td>\n",
       "      <td>5</td>\n",
       "    </tr>\n",
       "    <tr>\n",
       "      <th>19</th>\n",
       "      <td>Hindi</td>\n",
       "      <td>6</td>\n",
       "    </tr>\n",
       "    <tr>\n",
       "      <th>10</th>\n",
       "      <td>Indonesian</td>\n",
       "      <td>7</td>\n",
       "    </tr>\n",
       "    <tr>\n",
       "      <th>5</th>\n",
       "      <td>Japanese</td>\n",
       "      <td>8</td>\n",
       "    </tr>\n",
       "    <tr>\n",
       "      <th>14</th>\n",
       "      <td>Korean</td>\n",
       "      <td>9</td>\n",
       "    </tr>\n",
       "    <tr>\n",
       "      <th>7</th>\n",
       "      <td>Latin</td>\n",
       "      <td>10</td>\n",
       "    </tr>\n",
       "    <tr>\n",
       "      <th>29</th>\n",
       "      <td>Persian</td>\n",
       "      <td>11</td>\n",
       "    </tr>\n",
       "    <tr>\n",
       "      <th>11</th>\n",
       "      <td>Portugese</td>\n",
       "      <td>12</td>\n",
       "    </tr>\n",
       "    <tr>\n",
       "      <th>27</th>\n",
       "      <td>Pushto</td>\n",
       "      <td>13</td>\n",
       "    </tr>\n",
       "    <tr>\n",
       "      <th>31</th>\n",
       "      <td>Romanian</td>\n",
       "      <td>14</td>\n",
       "    </tr>\n",
       "    <tr>\n",
       "      <th>32</th>\n",
       "      <td>Russian</td>\n",
       "      <td>15</td>\n",
       "    </tr>\n",
       "    <tr>\n",
       "      <th>21</th>\n",
       "      <td>Spanish</td>\n",
       "      <td>16</td>\n",
       "    </tr>\n",
       "    <tr>\n",
       "      <th>1</th>\n",
       "      <td>Swedish</td>\n",
       "      <td>17</td>\n",
       "    </tr>\n",
       "    <tr>\n",
       "      <th>3</th>\n",
       "      <td>Tamil</td>\n",
       "      <td>18</td>\n",
       "    </tr>\n",
       "    <tr>\n",
       "      <th>2</th>\n",
       "      <td>Thai</td>\n",
       "      <td>19</td>\n",
       "    </tr>\n",
       "    <tr>\n",
       "      <th>6</th>\n",
       "      <td>Turkish</td>\n",
       "      <td>20</td>\n",
       "    </tr>\n",
       "    <tr>\n",
       "      <th>8</th>\n",
       "      <td>Urdu</td>\n",
       "      <td>21</td>\n",
       "    </tr>\n",
       "  </tbody>\n",
       "</table>\n",
       "</div>"
      ],
      "text/plain": [
       "      language  language_encoded\n",
       "46      Arabic                 0\n",
       "13     Chinese                 1\n",
       "4        Dutch                 2\n",
       "37     English                 3\n",
       "0     Estonian                 4\n",
       "12      French                 5\n",
       "19       Hindi                 6\n",
       "10  Indonesian                 7\n",
       "5     Japanese                 8\n",
       "14      Korean                 9\n",
       "7        Latin                10\n",
       "29     Persian                11\n",
       "11   Portugese                12\n",
       "27      Pushto                13\n",
       "31    Romanian                14\n",
       "32     Russian                15\n",
       "21     Spanish                16\n",
       "1      Swedish                17\n",
       "3        Tamil                18\n",
       "2         Thai                19\n",
       "6      Turkish                20\n",
       "8         Urdu                21"
      ]
     },
     "execution_count": 13,
     "metadata": {},
     "output_type": "execute_result"
    }
   ],
   "source": [
    "language_label_identify_unique"
   ]
  },
  {
   "cell_type": "markdown",
   "id": "c2b64447",
   "metadata": {},
   "source": [
    "## Separating features and labels"
   ]
  },
  {
   "cell_type": "code",
   "execution_count": 14,
   "id": "a4877be1",
   "metadata": {},
   "outputs": [],
   "source": [
    "X = language_dataset['Text']\n",
    "y = language_dataset['language_encoded']"
   ]
  },
  {
   "cell_type": "markdown",
   "id": "ba087bc9",
   "metadata": {},
   "source": [
    "## Performing train test split"
   ]
  },
  {
   "cell_type": "code",
   "execution_count": 15,
   "id": "ee09a49c",
   "metadata": {},
   "outputs": [],
   "source": [
    "X_train, X_test, y_train, y_test = train_test_split(X, y, test_size=0.2, random_state=42)"
   ]
  },
  {
   "cell_type": "markdown",
   "id": "4d89c420",
   "metadata": {},
   "source": [
    "## Preprocessing the data"
   ]
  },
  {
   "cell_type": "code",
   "execution_count": 16,
   "id": "b12b6733",
   "metadata": {},
   "outputs": [],
   "source": [
    "y_train = to_categorical(y_train, num_classes=22)\n",
    "y_test = to_categorical(y_test, num_classes=22)"
   ]
  },
  {
   "cell_type": "code",
   "execution_count": 17,
   "id": "e980d171",
   "metadata": {},
   "outputs": [],
   "source": [
    "word_tokenizer = Tokenizer()"
   ]
  },
  {
   "cell_type": "code",
   "execution_count": 18,
   "id": "eca73709",
   "metadata": {},
   "outputs": [],
   "source": [
    "word_tokenizer.fit_on_texts(X_train)"
   ]
  },
  {
   "cell_type": "code",
   "execution_count": 19,
   "id": "9bebc7db",
   "metadata": {},
   "outputs": [],
   "source": [
    "X_train = word_tokenizer.texts_to_sequences(X_train)\n",
    "X_test = word_tokenizer.texts_to_sequences(X_test)"
   ]
  },
  {
   "cell_type": "code",
   "execution_count": 20,
   "id": "fb99280c",
   "metadata": {},
   "outputs": [],
   "source": [
    "vocab_length = len(word_tokenizer.word_index) + 1"
   ]
  },
  {
   "cell_type": "code",
   "execution_count": 21,
   "id": "4b1aa025",
   "metadata": {},
   "outputs": [],
   "source": [
    "maxlen = 100\n",
    "\n",
    "X_train = pad_sequences(X_train, padding='post', maxlen=maxlen)\n",
    "X_test = pad_sequences(X_test, padding='post', maxlen=maxlen)"
   ]
  },
  {
   "cell_type": "code",
   "execution_count": 22,
   "id": "e9080a4e",
   "metadata": {},
   "outputs": [],
   "source": [
    "embedding_dictionary = dict()\n",
    "\n",
    "glove_file = open('glove.6B.100d.txt', encoding='utf8')\n",
    "\n",
    "\n",
    "for line in glove_file:\n",
    "    records = line.split()\n",
    "    word = records[0]\n",
    "    corresponding_vector_of_the_word = np.asarray(records[1:], dtype='float32')\n",
    "    embedding_dictionary[word] = corresponding_vector_of_the_word\n",
    "\n",
    "glove_file.close()"
   ]
  },
  {
   "cell_type": "code",
   "execution_count": 23,
   "id": "26547df4",
   "metadata": {},
   "outputs": [],
   "source": [
    "embedding_matrix = np.zeros((vocab_length, 100))\n",
    "\n",
    "\n",
    "for word, index in word_tokenizer.word_index.items():\n",
    "    \n",
    "    getting_corresponding_word_from_embedding_vector = embedding_dictionary.get(word)\n",
    "    \n",
    "    if getting_corresponding_word_from_embedding_vector is not None:\n",
    "        \n",
    "        embedding_matrix[index] = getting_corresponding_word_from_embedding_vector"
   ]
  },
  {
   "cell_type": "code",
   "execution_count": 24,
   "id": "2f833cd3",
   "metadata": {},
   "outputs": [
    {
     "data": {
      "text/plain": [
       "(234753, 100)"
      ]
     },
     "execution_count": 24,
     "metadata": {},
     "output_type": "execute_result"
    }
   ],
   "source": [
    "embedding_matrix.shape"
   ]
  },
  {
   "cell_type": "markdown",
   "id": "7c79e297",
   "metadata": {},
   "source": [
    "## Creating the embedding layer"
   ]
  },
  {
   "cell_type": "code",
   "execution_count": 25,
   "id": "d4602a14",
   "metadata": {},
   "outputs": [],
   "source": [
    "embedding_layer = Embedding(vocab_length, 100, weights=[embedding_matrix], input_length=maxlen, trainable=False)"
   ]
  },
  {
   "cell_type": "markdown",
   "id": "cb866506",
   "metadata": {},
   "source": [
    "## Defining the early stop"
   ]
  },
  {
   "cell_type": "code",
   "execution_count": 26,
   "id": "e977cefd",
   "metadata": {},
   "outputs": [],
   "source": [
    "early_stop_loss = EarlyStopping(monitor='loss', patience=2)\n",
    "early_stop_val_loss = EarlyStopping(monitor='val_loss', patience=2)"
   ]
  },
  {
   "cell_type": "markdown",
   "id": "d9c41b4b",
   "metadata": {},
   "source": [
    "## Creating and training the model"
   ]
  },
  {
   "cell_type": "code",
   "execution_count": 27,
   "id": "508779b3",
   "metadata": {},
   "outputs": [],
   "source": [
    "model = Sequential()"
   ]
  },
  {
   "cell_type": "code",
   "execution_count": 28,
   "id": "6759b768",
   "metadata": {},
   "outputs": [],
   "source": [
    "model.add(embedding_layer)\n",
    "\n",
    "model.add(Bidirectional(SimpleRNN(128, activation='tanh')))\n",
    "\n",
    "model.add(Dense(128, activation='tanh'))\n",
    "\n",
    "model.add(Dense(64, activation='tanh'))\n",
    "\n",
    "model.add(Dense(32, activation='tanh'))\n",
    "\n",
    "model.add(Dense(22, activation='softmax'))"
   ]
  },
  {
   "cell_type": "code",
   "execution_count": 29,
   "id": "6309c28d",
   "metadata": {},
   "outputs": [
    {
     "name": "stdout",
     "output_type": "stream",
     "text": [
      "Model: \"sequential\"\n",
      "_________________________________________________________________\n",
      " Layer (type)                Output Shape              Param #   \n",
      "=================================================================\n",
      " embedding (Embedding)       (None, 100, 100)          23475300  \n",
      "                                                                 \n",
      " bidirectional (Bidirectiona  (None, 256)              58624     \n",
      " l)                                                              \n",
      "                                                                 \n",
      " dense (Dense)               (None, 128)               32896     \n",
      "                                                                 \n",
      " dense_1 (Dense)             (None, 64)                8256      \n",
      "                                                                 \n",
      " dense_2 (Dense)             (None, 32)                2080      \n",
      "                                                                 \n",
      " dense_3 (Dense)             (None, 22)                726       \n",
      "                                                                 \n",
      "=================================================================\n",
      "Total params: 23,577,882\n",
      "Trainable params: 102,582\n",
      "Non-trainable params: 23,475,300\n",
      "_________________________________________________________________\n"
     ]
    }
   ],
   "source": [
    "model.summary()"
   ]
  },
  {
   "cell_type": "code",
   "execution_count": 30,
   "id": "cd538eda",
   "metadata": {},
   "outputs": [],
   "source": [
    "model.compile(optimizer=Adam(learning_rate=2e-5), loss='categorical_crossentropy', metrics=['accuracy'])"
   ]
  },
  {
   "cell_type": "code",
   "execution_count": 31,
   "id": "eee1d166",
   "metadata": {},
   "outputs": [
    {
     "name": "stdout",
     "output_type": "stream",
     "text": [
      "Epoch 1/100\n",
      "274/274 [==============================] - 77s 266ms/step - loss: 2.9366 - accuracy: 0.0953 - val_loss: 2.7115 - val_accuracy: 0.2006\n",
      "Epoch 2/100\n",
      "274/274 [==============================] - 72s 264ms/step - loss: 2.5636 - accuracy: 0.2586 - val_loss: 2.4519 - val_accuracy: 0.3159\n",
      "Epoch 3/100\n",
      "274/274 [==============================] - 70s 255ms/step - loss: 2.3338 - accuracy: 0.3555 - val_loss: 2.2382 - val_accuracy: 0.3843\n",
      "Epoch 4/100\n",
      "274/274 [==============================] - 73s 265ms/step - loss: 2.1538 - accuracy: 0.4033 - val_loss: 2.0829 - val_accuracy: 0.4215\n",
      "Epoch 5/100\n",
      "274/274 [==============================] - 73s 265ms/step - loss: 2.0145 - accuracy: 0.4383 - val_loss: 1.9707 - val_accuracy: 0.4321\n",
      "Epoch 6/100\n",
      "274/274 [==============================] - 73s 266ms/step - loss: 1.9055 - accuracy: 0.4587 - val_loss: 1.8757 - val_accuracy: 0.4680\n",
      "Epoch 7/100\n",
      "274/274 [==============================] - 70s 257ms/step - loss: 1.8155 - accuracy: 0.4833 - val_loss: 1.7961 - val_accuracy: 0.4730\n",
      "Epoch 8/100\n",
      "274/274 [==============================] - 71s 259ms/step - loss: 1.7411 - accuracy: 0.5025 - val_loss: 1.7178 - val_accuracy: 0.5025\n",
      "Epoch 9/100\n",
      "274/274 [==============================] - 70s 255ms/step - loss: 1.6781 - accuracy: 0.5183 - val_loss: 1.6613 - val_accuracy: 0.5242\n",
      "Epoch 10/100\n",
      "274/274 [==============================] - 71s 261ms/step - loss: 1.6170 - accuracy: 0.5355 - val_loss: 1.6038 - val_accuracy: 0.5467\n",
      "Epoch 11/100\n",
      "274/274 [==============================] - 84s 308ms/step - loss: 1.5627 - accuracy: 0.5485 - val_loss: 1.5491 - val_accuracy: 0.5608\n",
      "Epoch 12/100\n",
      "274/274 [==============================] - 76s 276ms/step - loss: 1.5139 - accuracy: 0.5625 - val_loss: 1.5190 - val_accuracy: 0.5647\n",
      "Epoch 13/100\n",
      "274/274 [==============================] - 75s 274ms/step - loss: 1.4688 - accuracy: 0.5746 - val_loss: 1.4694 - val_accuracy: 0.5743\n",
      "Epoch 14/100\n",
      "274/274 [==============================] - 76s 276ms/step - loss: 1.4289 - accuracy: 0.5837 - val_loss: 1.4149 - val_accuracy: 0.5897\n",
      "Epoch 15/100\n",
      "274/274 [==============================] - 76s 277ms/step - loss: 1.3875 - accuracy: 0.5921 - val_loss: 1.3847 - val_accuracy: 0.5958\n",
      "Epoch 16/100\n",
      "274/274 [==============================] - 77s 281ms/step - loss: 1.3494 - accuracy: 0.6024 - val_loss: 1.3440 - val_accuracy: 0.6036\n",
      "Epoch 17/100\n",
      "274/274 [==============================] - 77s 283ms/step - loss: 1.3154 - accuracy: 0.6099 - val_loss: 1.3107 - val_accuracy: 0.6107\n",
      "Epoch 18/100\n",
      "274/274 [==============================] - 79s 288ms/step - loss: 1.2842 - accuracy: 0.6155 - val_loss: 1.2807 - val_accuracy: 0.6173\n",
      "Epoch 19/100\n",
      "274/274 [==============================] - 77s 280ms/step - loss: 1.2558 - accuracy: 0.6183 - val_loss: 1.2567 - val_accuracy: 0.6208\n",
      "Epoch 20/100\n",
      "274/274 [==============================] - 76s 277ms/step - loss: 1.2277 - accuracy: 0.6249 - val_loss: 1.2216 - val_accuracy: 0.6281\n",
      "Epoch 21/100\n",
      "274/274 [==============================] - 77s 280ms/step - loss: 1.2008 - accuracy: 0.6320 - val_loss: 1.1964 - val_accuracy: 0.6311\n",
      "Epoch 22/100\n",
      "274/274 [==============================] - 76s 279ms/step - loss: 1.1815 - accuracy: 0.6334 - val_loss: 1.1806 - val_accuracy: 0.6306\n",
      "Epoch 23/100\n",
      "274/274 [==============================] - 76s 278ms/step - loss: 1.1596 - accuracy: 0.6402 - val_loss: 1.1662 - val_accuracy: 0.6372\n",
      "Epoch 24/100\n",
      "274/274 [==============================] - 76s 276ms/step - loss: 1.1393 - accuracy: 0.6413 - val_loss: 1.1442 - val_accuracy: 0.6407\n",
      "Epoch 25/100\n",
      "274/274 [==============================] - 81s 296ms/step - loss: 1.1192 - accuracy: 0.6480 - val_loss: 1.1350 - val_accuracy: 0.6425\n",
      "Epoch 26/100\n",
      "274/274 [==============================] - 77s 282ms/step - loss: 1.1004 - accuracy: 0.6516 - val_loss: 1.1048 - val_accuracy: 0.6475\n",
      "Epoch 27/100\n",
      "274/274 [==============================] - 78s 284ms/step - loss: 1.0855 - accuracy: 0.6552 - val_loss: 1.0892 - val_accuracy: 0.6516\n",
      "Epoch 28/100\n",
      "274/274 [==============================] - 76s 276ms/step - loss: 1.2298 - accuracy: 0.6168 - val_loss: 1.1565 - val_accuracy: 0.6219\n",
      "Epoch 29/100\n",
      "274/274 [==============================] - 77s 281ms/step - loss: 1.1080 - accuracy: 0.6392 - val_loss: 1.0969 - val_accuracy: 0.6416\n"
     ]
    },
    {
     "data": {
      "text/plain": [
       "<keras.callbacks.History at 0x2524c9e9430>"
      ]
     },
     "execution_count": 31,
     "metadata": {},
     "output_type": "execute_result"
    }
   ],
   "source": [
    "model.fit(x=X_train, y=y_train, validation_data=[X_test, y_test], batch_size=64, epochs=100, callbacks=[early_stop_loss, early_stop_val_loss])"
   ]
  },
  {
   "cell_type": "markdown",
   "id": "77a138a4",
   "metadata": {},
   "source": [
    "## Plotting loss VS val_loss and accuracy VS val_accuracy graph"
   ]
  },
  {
   "cell_type": "code",
   "execution_count": 32,
   "id": "dffa08c7",
   "metadata": {},
   "outputs": [],
   "source": [
    "history = pd.DataFrame(model.history.history)"
   ]
  },
  {
   "cell_type": "code",
   "execution_count": 33,
   "id": "2f717611",
   "metadata": {},
   "outputs": [
    {
     "data": {
      "text/plain": [
       "<Axes: >"
      ]
     },
     "execution_count": 33,
     "metadata": {},
     "output_type": "execute_result"
    },
    {
     "data": {
      "image/png": "[encoded data removed]",
      "text/plain": [
       "<Figure size 640x480 with 1 Axes>"
      ]
     },
     "metadata": {},
     "output_type": "display_data"
    }
   ],
   "source": [
    "history[['loss', 'val_loss']].plot()"
   ]
  },
  {
   "cell_type": "code",
   "execution_count": 34,
   "id": "d6eb0f2a",
   "metadata": {},
   "outputs": [
    {
     "data": {
      "text/plain": [
       "<Axes: >"
      ]
     },
     "execution_count": 34,
     "metadata": {},
     "output_type": "execute_result"
    },
    {
     "data": {
      "image/png": "[encoded data removed]",
      "text/plain": [
       "<Figure size 640x480 with 1 Axes>"
      ]
     },
     "metadata": {},
     "output_type": "display_data"
    }
   ],
   "source": [
    "history[['accuracy', 'val_accuracy']].plot()"
   ]
  },
  {
   "cell_type": "markdown",
   "id": "6c64dae2",
   "metadata": {},
   "source": [
    "## Evaluating the model on training and testing data"
   ]
  },
  {
   "cell_type": "code",
   "execution_count": 35,
   "id": "b9b50ac4",
   "metadata": {},
   "outputs": [
    {
     "name": "stdout",
     "output_type": "stream",
     "text": [
      "547/547 [==============================] - 26s 47ms/step - loss: 1.0783 - accuracy: 0.6523\n"
     ]
    },
    {
     "data": {
      "text/plain": [
       "0.6523131728172302"
      ]
     },
     "execution_count": 35,
     "metadata": {},
     "output_type": "execute_result"
    }
   ],
   "source": [
    "model.evaluate(X_train, y_train)[1]"
   ]
  },
  {
   "cell_type": "code",
   "execution_count": 36,
   "id": "14f744e9",
   "metadata": {},
   "outputs": [
    {
     "name": "stdout",
     "output_type": "stream",
     "text": [
      "137/137 [==============================] - 6s 46ms/step - loss: 1.0969 - accuracy: 0.6416\n"
     ]
    },
    {
     "data": {
      "text/plain": [
       "0.6415827870368958"
      ]
     },
     "execution_count": 36,
     "metadata": {},
     "output_type": "execute_result"
    }
   ],
   "source": [
    "model.evaluate(X_test, y_test)[1]"
   ]
  },
  {
   "cell_type": "markdown",
   "id": "bdc4ddfd",
   "metadata": {},
   "source": [
    "## Performing prediction on sample data"
   ]
  },
  {
   "cell_type": "code",
   "execution_count": 37,
   "id": "8084c7c2",
   "metadata": {},
   "outputs": [],
   "source": [
    "sample_data = \"klement gottwaldi surnukeha palsameeriti ning paigutati mausoleumi surnukeha oli aga liiga hilja ja oskamatult palsameeritud ning hakkas ilmutama lagunemise tundemÃ¤rke  aastal viidi ta surnukeha mausoleumist Ã¤ra ja kremeeriti zlÃ­ni linn kandis aastatel â€“ nime gottwaldov ukrainas harkivi oblastis kandis zmiivi linn aastatel â€“ nime gotvald\""
   ]
  },
  {
   "cell_type": "code",
   "execution_count": 38,
   "id": "0f875a98",
   "metadata": {},
   "outputs": [],
   "source": [
    "sample_data_sequence = word_tokenizer.texts_to_sequences([sample_data])"
   ]
  },
  {
   "cell_type": "code",
   "execution_count": 39,
   "id": "c6ee133a",
   "metadata": {},
   "outputs": [],
   "source": [
    "sample_data_padded = pad_sequences(sample_data_sequence, padding='post', maxlen=100)"
   ]
  },
  {
   "cell_type": "code",
   "execution_count": 40,
   "id": "fc715260",
   "metadata": {},
   "outputs": [
    {
     "name": "stdout",
     "output_type": "stream",
     "text": [
      "1/1 [==============================] - 1s 552ms/step\n"
     ]
    }
   ],
   "source": [
    "prediction = model.predict(sample_data_padded)"
   ]
  },
  {
   "cell_type": "code",
   "execution_count": 41,
   "id": "833da391",
   "metadata": {},
   "outputs": [],
   "source": [
    "predicted_class = np.argmax(prediction)"
   ]
  },
  {
   "cell_type": "code",
   "execution_count": 42,
   "id": "f31f370f",
   "metadata": {},
   "outputs": [],
   "source": [
    "class_names = ['Arabic', 'Chinese', 'Dutch', 'English', 'Estonian', 'French', 'Hindi', 'Indonesian', 'Japanese', 'Korean', 'Latin', 'Persian', 'Portugese', 'Pushto', 'Romanian', 'Russian', 'Spanish', 'Swedish', 'Tamil', 'Thai', 'Turkish', 'Urdu']"
   ]
  },
  {
   "cell_type": "code",
   "execution_count": 43,
   "id": "1487cb5b",
   "metadata": {},
   "outputs": [],
   "source": [
    "pred_final_result = class_names[predicted_class]"
   ]
  },
  {
   "cell_type": "code",
   "execution_count": 44,
   "id": "edde073d",
   "metadata": {},
   "outputs": [
    {
     "data": {
      "text/plain": [
       "'Estonian'"
      ]
     },
     "execution_count": 44,
     "metadata": {},
     "output_type": "execute_result"
    }
   ],
   "source": [
    "pred_final_result"
   ]
  }
 ],
 "metadata": {
  "kernelspec": {
   "display_name": "Python 3 (ipykernel)",
   "language": "python",
   "name": "python3"
  },
  "language_info": {
   "codemirror_mode": {
    "name": "ipython",
    "version": 3
   },
   "file_extension": ".py",
   "mimetype": "text/x-python",
   "name": "python",
   "nbconvert_exporter": "python",
   "pygments_lexer": "ipython3",
   "version": "3.9.7"
  }
 },
 "nbformat": 4,
 "nbformat_minor": 5
}
